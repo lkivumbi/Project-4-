{
 "cells": [
  {
   "cell_type": "markdown",
   "id": "08eb312f-9fc7-4de8-91dd-f35cb60c9232",
   "metadata": {},
   "source": [
    "# PROJECT 4 PART 1\n",
    "## Metabolic Syndrome Prediction\n",
    "- Student's Name `Luke Kivumbi`"
   ]
  },
  {
   "cell_type": "code",
   "execution_count": 4,
   "id": "4b66edff-bc53-4492-8ca1-231337090140",
   "metadata": {},
   "outputs": [],
   "source": [
    "#imports\n",
    "import pandas as pd\n",
    "import matplotlib.pyplot as plt\n",
    "import seaborn as sns\n",
    "import numpy as np"
   ]
  },
  {
   "cell_type": "code",
   "execution_count": 5,
   "id": "24597afe-61cd-4cf1-ab24-c0f425369eaf",
   "metadata": {},
   "outputs": [
    {
     "name": "stdout",
     "output_type": "stream",
     "text": [
      "<class 'pandas.core.frame.DataFrame'>\n",
      "RangeIndex: 2401 entries, 0 to 2400\n",
      "Data columns (total 15 columns):\n",
      " #   Column             Non-Null Count  Dtype  \n",
      "---  ------             --------------  -----  \n",
      " 0   seqn               2401 non-null   int64  \n",
      " 1   Age                2401 non-null   int64  \n",
      " 2   Sex                2401 non-null   object \n",
      " 3   Marital            2193 non-null   object \n",
      " 4   Income             2284 non-null   float64\n",
      " 5   Race               2401 non-null   object \n",
      " 6   WaistCirc          2316 non-null   float64\n",
      " 7   BMI                2375 non-null   float64\n",
      " 8   Albuminuria        2401 non-null   int64  \n",
      " 9   UrAlbCr            2401 non-null   float64\n",
      " 10  UricAcid           2401 non-null   float64\n",
      " 11  BloodGlucose       2401 non-null   int64  \n",
      " 12  HDL                2401 non-null   int64  \n",
      " 13  Triglycerides      2401 non-null   int64  \n",
      " 14  MetabolicSyndrome  2401 non-null   object \n",
      "dtypes: float64(5), int64(6), object(4)\n",
      "memory usage: 281.5+ KB\n"
     ]
    },
    {
     "data": {
      "text/html": [
       "<div>\n",
       "<style scoped>\n",
       "    .dataframe tbody tr th:only-of-type {\n",
       "        vertical-align: middle;\n",
       "    }\n",
       "\n",
       "    .dataframe tbody tr th {\n",
       "        vertical-align: top;\n",
       "    }\n",
       "\n",
       "    .dataframe thead th {\n",
       "        text-align: right;\n",
       "    }\n",
       "</style>\n",
       "<table border=\"1\" class=\"dataframe\">\n",
       "  <thead>\n",
       "    <tr style=\"text-align: right;\">\n",
       "      <th></th>\n",
       "      <th>seqn</th>\n",
       "      <th>Age</th>\n",
       "      <th>Sex</th>\n",
       "      <th>Marital</th>\n",
       "      <th>Income</th>\n",
       "      <th>Race</th>\n",
       "      <th>WaistCirc</th>\n",
       "      <th>BMI</th>\n",
       "      <th>Albuminuria</th>\n",
       "      <th>UrAlbCr</th>\n",
       "      <th>UricAcid</th>\n",
       "      <th>BloodGlucose</th>\n",
       "      <th>HDL</th>\n",
       "      <th>Triglycerides</th>\n",
       "      <th>MetabolicSyndrome</th>\n",
       "    </tr>\n",
       "  </thead>\n",
       "  <tbody>\n",
       "    <tr>\n",
       "      <th>0</th>\n",
       "      <td>62161</td>\n",
       "      <td>22</td>\n",
       "      <td>Male</td>\n",
       "      <td>Single</td>\n",
       "      <td>8200.0</td>\n",
       "      <td>White</td>\n",
       "      <td>81.0</td>\n",
       "      <td>23.3</td>\n",
       "      <td>0</td>\n",
       "      <td>3.88</td>\n",
       "      <td>4.9</td>\n",
       "      <td>92</td>\n",
       "      <td>41</td>\n",
       "      <td>84</td>\n",
       "      <td>No MetSyn</td>\n",
       "    </tr>\n",
       "    <tr>\n",
       "      <th>1</th>\n",
       "      <td>62164</td>\n",
       "      <td>44</td>\n",
       "      <td>Female</td>\n",
       "      <td>Married</td>\n",
       "      <td>4500.0</td>\n",
       "      <td>White</td>\n",
       "      <td>80.1</td>\n",
       "      <td>23.2</td>\n",
       "      <td>0</td>\n",
       "      <td>8.55</td>\n",
       "      <td>4.5</td>\n",
       "      <td>82</td>\n",
       "      <td>28</td>\n",
       "      <td>56</td>\n",
       "      <td>No MetSyn</td>\n",
       "    </tr>\n",
       "    <tr>\n",
       "      <th>2</th>\n",
       "      <td>62169</td>\n",
       "      <td>21</td>\n",
       "      <td>Male</td>\n",
       "      <td>Single</td>\n",
       "      <td>800.0</td>\n",
       "      <td>Asian</td>\n",
       "      <td>69.6</td>\n",
       "      <td>20.1</td>\n",
       "      <td>0</td>\n",
       "      <td>5.07</td>\n",
       "      <td>5.4</td>\n",
       "      <td>107</td>\n",
       "      <td>43</td>\n",
       "      <td>78</td>\n",
       "      <td>No MetSyn</td>\n",
       "    </tr>\n",
       "    <tr>\n",
       "      <th>3</th>\n",
       "      <td>62172</td>\n",
       "      <td>43</td>\n",
       "      <td>Female</td>\n",
       "      <td>Single</td>\n",
       "      <td>2000.0</td>\n",
       "      <td>Black</td>\n",
       "      <td>120.4</td>\n",
       "      <td>33.3</td>\n",
       "      <td>0</td>\n",
       "      <td>5.22</td>\n",
       "      <td>5.0</td>\n",
       "      <td>104</td>\n",
       "      <td>73</td>\n",
       "      <td>141</td>\n",
       "      <td>No MetSyn</td>\n",
       "    </tr>\n",
       "    <tr>\n",
       "      <th>4</th>\n",
       "      <td>62177</td>\n",
       "      <td>51</td>\n",
       "      <td>Male</td>\n",
       "      <td>Married</td>\n",
       "      <td>NaN</td>\n",
       "      <td>Asian</td>\n",
       "      <td>81.1</td>\n",
       "      <td>20.1</td>\n",
       "      <td>0</td>\n",
       "      <td>8.13</td>\n",
       "      <td>5.0</td>\n",
       "      <td>95</td>\n",
       "      <td>43</td>\n",
       "      <td>126</td>\n",
       "      <td>No MetSyn</td>\n",
       "    </tr>\n",
       "  </tbody>\n",
       "</table>\n",
       "</div>"
      ],
      "text/plain": [
       "    seqn  Age     Sex  Marital  Income   Race  WaistCirc   BMI  Albuminuria  \\\n",
       "0  62161   22    Male   Single  8200.0  White       81.0  23.3            0   \n",
       "1  62164   44  Female  Married  4500.0  White       80.1  23.2            0   \n",
       "2  62169   21    Male   Single   800.0  Asian       69.6  20.1            0   \n",
       "3  62172   43  Female   Single  2000.0  Black      120.4  33.3            0   \n",
       "4  62177   51    Male  Married     NaN  Asian       81.1  20.1            0   \n",
       "\n",
       "   UrAlbCr  UricAcid  BloodGlucose  HDL  Triglycerides MetabolicSyndrome  \n",
       "0     3.88       4.9            92   41             84         No MetSyn  \n",
       "1     8.55       4.5            82   28             56         No MetSyn  \n",
       "2     5.07       5.4           107   43             78         No MetSyn  \n",
       "3     5.22       5.0           104   73            141         No MetSyn  \n",
       "4     8.13       5.0            95   43            126         No MetSyn  "
      ]
     },
     "execution_count": 5,
     "metadata": {},
     "output_type": "execute_result"
    }
   ],
   "source": [
    "#loading the data\n",
    "df = pd.read_csv('Metabolic  Syndrome.csv')\n",
    "df.info()\n",
    "df.head()"
   ]
  },
  {
   "cell_type": "markdown",
   "id": "380b5ab0-ad73-4e06-9536-82ea780bb1a8",
   "metadata": {},
   "source": [
    "- The target for this project is MetabolicSyndrome. That is whether someone is positive or not for Metabolic Syndrome. This is a classification case\n",
    "- For our data one row represents one individual.\n",
    "- This data set has 14 features plus the target.\n",
    "- there're 2401 rows in the dataset\n",
    "- in terms of dimensionality reduction for this dataset there's an opportunity of say joining one's sex and marital status into one feature, or one's sex and race or even marital and race. there's also the opportunity for joining age and sex or age sex and race. Further there's also an opportunity for income and sex, income and race.\n",
    "- I foresee challenges of inconsistent values especially in the potential target columns of Sex, Marital, Race\n",
    "\n",
    "# EXPLORING THE DATA"
   ]
  },
  {
   "cell_type": "code",
   "execution_count": 6,
   "id": "a0ac9d28-dda2-4ed5-ad1c-1557a8c5a3c2",
   "metadata": {},
   "outputs": [
    {
     "data": {
      "text/plain": [
       "0"
      ]
     },
     "execution_count": 6,
     "metadata": {},
     "output_type": "execute_result"
    }
   ],
   "source": [
    "#checking for duplicates\n",
    "df.duplicated().sum()"
   ]
  },
  {
   "cell_type": "markdown",
   "id": "1b1a5640-aefc-4dac-9fa5-210dde0e00a5",
   "metadata": {},
   "source": [
    "No duplicates"
   ]
  },
  {
   "cell_type": "code",
   "execution_count": 7,
   "id": "164e271c-b076-48c1-b536-28512d85ddb2",
   "metadata": {},
   "outputs": [
    {
     "data": {
      "text/plain": [
       "seqn                   0\n",
       "Age                    0\n",
       "Sex                    0\n",
       "Marital              208\n",
       "Income               117\n",
       "Race                   0\n",
       "WaistCirc             85\n",
       "BMI                   26\n",
       "Albuminuria            0\n",
       "UrAlbCr                0\n",
       "UricAcid               0\n",
       "BloodGlucose           0\n",
       "HDL                    0\n",
       "Triglycerides          0\n",
       "MetabolicSyndrome      0\n",
       "dtype: int64"
      ]
     },
     "execution_count": 7,
     "metadata": {},
     "output_type": "execute_result"
    }
   ],
   "source": [
    "#checking for missing values\n",
    "df.isna().sum()"
   ]
  },
  {
   "cell_type": "markdown",
   "id": "c9bea4b0-92b0-4fee-8165-b858514a36a9",
   "metadata": {},
   "source": [
    "There're missing values for Marital, Icome, BMI and WaistCircumfrance"
   ]
  },
  {
   "cell_type": "code",
   "execution_count": 8,
   "id": "04c50197-9efd-4094-92bd-7f945b7e0c30",
   "metadata": {},
   "outputs": [
    {
     "data": {
      "text/html": [
       "<div>\n",
       "<style scoped>\n",
       "    .dataframe tbody tr th:only-of-type {\n",
       "        vertical-align: middle;\n",
       "    }\n",
       "\n",
       "    .dataframe tbody tr th {\n",
       "        vertical-align: top;\n",
       "    }\n",
       "\n",
       "    .dataframe thead th {\n",
       "        text-align: right;\n",
       "    }\n",
       "</style>\n",
       "<table border=\"1\" class=\"dataframe\">\n",
       "  <thead>\n",
       "    <tr style=\"text-align: right;\">\n",
       "      <th></th>\n",
       "      <th>seqn</th>\n",
       "      <th>Age</th>\n",
       "      <th>Income</th>\n",
       "      <th>WaistCirc</th>\n",
       "      <th>BMI</th>\n",
       "      <th>Albuminuria</th>\n",
       "      <th>UrAlbCr</th>\n",
       "      <th>UricAcid</th>\n",
       "      <th>BloodGlucose</th>\n",
       "      <th>HDL</th>\n",
       "      <th>Triglycerides</th>\n",
       "    </tr>\n",
       "  </thead>\n",
       "  <tbody>\n",
       "    <tr>\n",
       "      <th>count</th>\n",
       "      <td>2401.000000</td>\n",
       "      <td>2401.000000</td>\n",
       "      <td>2284.000000</td>\n",
       "      <td>2316.000000</td>\n",
       "      <td>2375.000000</td>\n",
       "      <td>2401.000000</td>\n",
       "      <td>2401.000000</td>\n",
       "      <td>2401.000000</td>\n",
       "      <td>2401.000000</td>\n",
       "      <td>2401.000000</td>\n",
       "      <td>2401.000000</td>\n",
       "    </tr>\n",
       "    <tr>\n",
       "      <th>mean</th>\n",
       "      <td>67030.674302</td>\n",
       "      <td>48.691795</td>\n",
       "      <td>4005.253940</td>\n",
       "      <td>98.307254</td>\n",
       "      <td>28.702189</td>\n",
       "      <td>0.154102</td>\n",
       "      <td>43.626131</td>\n",
       "      <td>5.489046</td>\n",
       "      <td>108.247813</td>\n",
       "      <td>53.369429</td>\n",
       "      <td>128.125364</td>\n",
       "    </tr>\n",
       "    <tr>\n",
       "      <th>std</th>\n",
       "      <td>2823.565114</td>\n",
       "      <td>17.632852</td>\n",
       "      <td>2954.032186</td>\n",
       "      <td>16.252634</td>\n",
       "      <td>6.662242</td>\n",
       "      <td>0.422780</td>\n",
       "      <td>258.272829</td>\n",
       "      <td>1.439358</td>\n",
       "      <td>34.820657</td>\n",
       "      <td>15.185537</td>\n",
       "      <td>95.322477</td>\n",
       "    </tr>\n",
       "    <tr>\n",
       "      <th>min</th>\n",
       "      <td>62161.000000</td>\n",
       "      <td>20.000000</td>\n",
       "      <td>300.000000</td>\n",
       "      <td>56.200000</td>\n",
       "      <td>13.400000</td>\n",
       "      <td>0.000000</td>\n",
       "      <td>1.400000</td>\n",
       "      <td>1.800000</td>\n",
       "      <td>39.000000</td>\n",
       "      <td>14.000000</td>\n",
       "      <td>26.000000</td>\n",
       "    </tr>\n",
       "    <tr>\n",
       "      <th>25%</th>\n",
       "      <td>64591.000000</td>\n",
       "      <td>34.000000</td>\n",
       "      <td>1600.000000</td>\n",
       "      <td>86.675000</td>\n",
       "      <td>24.000000</td>\n",
       "      <td>0.000000</td>\n",
       "      <td>4.450000</td>\n",
       "      <td>4.500000</td>\n",
       "      <td>92.000000</td>\n",
       "      <td>43.000000</td>\n",
       "      <td>75.000000</td>\n",
       "    </tr>\n",
       "    <tr>\n",
       "      <th>50%</th>\n",
       "      <td>67059.000000</td>\n",
       "      <td>48.000000</td>\n",
       "      <td>2500.000000</td>\n",
       "      <td>97.000000</td>\n",
       "      <td>27.700000</td>\n",
       "      <td>0.000000</td>\n",
       "      <td>7.070000</td>\n",
       "      <td>5.400000</td>\n",
       "      <td>99.000000</td>\n",
       "      <td>51.000000</td>\n",
       "      <td>103.000000</td>\n",
       "    </tr>\n",
       "    <tr>\n",
       "      <th>75%</th>\n",
       "      <td>69495.000000</td>\n",
       "      <td>63.000000</td>\n",
       "      <td>6200.000000</td>\n",
       "      <td>107.625000</td>\n",
       "      <td>32.100000</td>\n",
       "      <td>0.000000</td>\n",
       "      <td>13.690000</td>\n",
       "      <td>6.400000</td>\n",
       "      <td>110.000000</td>\n",
       "      <td>62.000000</td>\n",
       "      <td>150.000000</td>\n",
       "    </tr>\n",
       "    <tr>\n",
       "      <th>max</th>\n",
       "      <td>71915.000000</td>\n",
       "      <td>80.000000</td>\n",
       "      <td>9000.000000</td>\n",
       "      <td>176.000000</td>\n",
       "      <td>68.700000</td>\n",
       "      <td>2.000000</td>\n",
       "      <td>5928.000000</td>\n",
       "      <td>11.300000</td>\n",
       "      <td>382.000000</td>\n",
       "      <td>156.000000</td>\n",
       "      <td>1562.000000</td>\n",
       "    </tr>\n",
       "  </tbody>\n",
       "</table>\n",
       "</div>"
      ],
      "text/plain": [
       "               seqn          Age       Income    WaistCirc          BMI  \\\n",
       "count   2401.000000  2401.000000  2284.000000  2316.000000  2375.000000   \n",
       "mean   67030.674302    48.691795  4005.253940    98.307254    28.702189   \n",
       "std     2823.565114    17.632852  2954.032186    16.252634     6.662242   \n",
       "min    62161.000000    20.000000   300.000000    56.200000    13.400000   \n",
       "25%    64591.000000    34.000000  1600.000000    86.675000    24.000000   \n",
       "50%    67059.000000    48.000000  2500.000000    97.000000    27.700000   \n",
       "75%    69495.000000    63.000000  6200.000000   107.625000    32.100000   \n",
       "max    71915.000000    80.000000  9000.000000   176.000000    68.700000   \n",
       "\n",
       "       Albuminuria      UrAlbCr     UricAcid  BloodGlucose          HDL  \\\n",
       "count  2401.000000  2401.000000  2401.000000   2401.000000  2401.000000   \n",
       "mean      0.154102    43.626131     5.489046    108.247813    53.369429   \n",
       "std       0.422780   258.272829     1.439358     34.820657    15.185537   \n",
       "min       0.000000     1.400000     1.800000     39.000000    14.000000   \n",
       "25%       0.000000     4.450000     4.500000     92.000000    43.000000   \n",
       "50%       0.000000     7.070000     5.400000     99.000000    51.000000   \n",
       "75%       0.000000    13.690000     6.400000    110.000000    62.000000   \n",
       "max       2.000000  5928.000000    11.300000    382.000000   156.000000   \n",
       "\n",
       "       Triglycerides  \n",
       "count    2401.000000  \n",
       "mean      128.125364  \n",
       "std        95.322477  \n",
       "min        26.000000  \n",
       "25%        75.000000  \n",
       "50%       103.000000  \n",
       "75%       150.000000  \n",
       "max      1562.000000  "
      ]
     },
     "execution_count": 8,
     "metadata": {},
     "output_type": "execute_result"
    }
   ],
   "source": [
    "#looking at numeric summery\n",
    "df.describe()"
   ]
  },
  {
   "cell_type": "markdown",
   "id": "e5aad63d-cc42-4140-8e54-2cc31af25a4d",
   "metadata": {},
   "source": [
    "- Features of 'Albuminuria',\t'UrAlbCr',\t'UricAcid',\t'BloodGlucose',\t'HDL' and 'Triglycerides' seem to have some outlier values especially given that the maximum values is way above the 75% value. this will need some visualisation to establish their true nature."
   ]
  },
  {
   "cell_type": "code",
   "execution_count": 9,
   "id": "f30ad983-9f95-466f-95dc-86633e0f2ae8",
   "metadata": {},
   "outputs": [
    {
     "data": {
      "text/plain": [
       "<Axes: xlabel='Triglycerides'>"
      ]
     },
     "execution_count": 9,
     "metadata": {},
     "output_type": "execute_result"
    },
    {
     "data": {
      "image/png": "[encoded data removed]",
      "text/plain": [
       "<Figure size 1000x1000 with 6 Axes>"
      ]
     },
     "metadata": {},
     "output_type": "display_data"
    }
   ],
   "source": [
    "#visualising Albuminuria\tUrAlbCr\tUricAcid\tBloodGlucose\tHDL\tTriglycerides in a scatter plot or boxplot\n",
    "fig, axes = plt.subplots(ncols=2, nrows=3, figsize=(10,10))\n",
    "sns.boxplot(data=df, x='Albuminuria', ax=axes[0,0])\n",
    "sns.boxplot(data=df, x='UrAlbCr', ax=axes[0,1])\n",
    "sns.boxplot(data=df, x='UricAcid', ax=axes[1,0])\n",
    "sns.boxplot(data=df, x='BloodGlucose', ax=axes[1,1])\n",
    "sns.boxplot(data=df, x='HDL', ax=axes[2,0])\n",
    "sns.boxplot(data=df, x='Triglycerides', ax=axes[2,1])"
   ]
  },
  {
   "cell_type": "markdown",
   "id": "1689d3d4-e803-468b-a6d0-6bf3e9e6c41d",
   "metadata": {},
   "source": [
    "The two values of Albuminuria need to be addressed"
   ]
  },
  {
   "cell_type": "code",
   "execution_count": 10,
   "id": "b2f067bf-0cf9-4498-aff8-c4849f62d944",
   "metadata": {},
   "outputs": [
    {
     "data": {
      "text/plain": [
       "0    2089\n",
       "1     254\n",
       "2      58\n",
       "Name: Albuminuria, dtype: int64"
      ]
     },
     "execution_count": 10,
     "metadata": {},
     "output_type": "execute_result"
    }
   ],
   "source": [
    "#looking at outlier values of Albuminuria\n",
    "df.Albuminuria.value_counts()"
   ]
  },
  {
   "cell_type": "markdown",
   "id": "9a5fcc22-7a01-40d9-ab5a-0b9b3f6f8874",
   "metadata": {},
   "source": [
    "From the looks of things this seems to be an ordered class where one's levels fall in either 0,1 or 2"
   ]
  },
  {
   "cell_type": "code",
   "execution_count": 11,
   "id": "1db719fc-78ff-4182-8ded-60f4dec81a07",
   "metadata": {},
   "outputs": [
    {
     "data": {
      "text/html": [
       "<div>\n",
       "<style scoped>\n",
       "    .dataframe tbody tr th:only-of-type {\n",
       "        vertical-align: middle;\n",
       "    }\n",
       "\n",
       "    .dataframe tbody tr th {\n",
       "        vertical-align: top;\n",
       "    }\n",
       "\n",
       "    .dataframe thead th {\n",
       "        text-align: right;\n",
       "    }\n",
       "</style>\n",
       "<table border=\"1\" class=\"dataframe\">\n",
       "  <thead>\n",
       "    <tr style=\"text-align: right;\">\n",
       "      <th></th>\n",
       "      <th>Sex</th>\n",
       "      <th>Marital</th>\n",
       "      <th>Race</th>\n",
       "      <th>MetabolicSyndrome</th>\n",
       "    </tr>\n",
       "  </thead>\n",
       "  <tbody>\n",
       "    <tr>\n",
       "      <th>count</th>\n",
       "      <td>2401</td>\n",
       "      <td>2193</td>\n",
       "      <td>2401</td>\n",
       "      <td>2401</td>\n",
       "    </tr>\n",
       "    <tr>\n",
       "      <th>unique</th>\n",
       "      <td>2</td>\n",
       "      <td>5</td>\n",
       "      <td>6</td>\n",
       "      <td>2</td>\n",
       "    </tr>\n",
       "    <tr>\n",
       "      <th>top</th>\n",
       "      <td>Female</td>\n",
       "      <td>Married</td>\n",
       "      <td>White</td>\n",
       "      <td>No MetSyn</td>\n",
       "    </tr>\n",
       "    <tr>\n",
       "      <th>freq</th>\n",
       "      <td>1211</td>\n",
       "      <td>1192</td>\n",
       "      <td>933</td>\n",
       "      <td>1579</td>\n",
       "    </tr>\n",
       "  </tbody>\n",
       "</table>\n",
       "</div>"
      ],
      "text/plain": [
       "           Sex  Marital   Race MetabolicSyndrome\n",
       "count     2401     2193   2401              2401\n",
       "unique       2        5      6                 2\n",
       "top     Female  Married  White         No MetSyn\n",
       "freq      1211     1192    933              1579"
      ]
     },
     "execution_count": 11,
     "metadata": {},
     "output_type": "execute_result"
    }
   ],
   "source": [
    "#looking at the object datatypes\n",
    "df.describe(include='object')"
   ]
  },
  {
   "cell_type": "code",
   "execution_count": 12,
   "id": "dfbdc403-0ab2-4f2b-8cea-81674cf0810d",
   "metadata": {},
   "outputs": [
    {
     "data": {
      "text/plain": [
       "Female    1211\n",
       "Male      1190\n",
       "Name: Sex, dtype: int64"
      ]
     },
     "execution_count": 12,
     "metadata": {},
     "output_type": "execute_result"
    }
   ],
   "source": [
    "#looking at value counts for all object features\n",
    "df.Sex.value_counts(dropna=False)"
   ]
  },
  {
   "cell_type": "markdown",
   "id": "4599e2d9-61e4-425a-9389-16b245f96edf",
   "metadata": {},
   "source": [
    "that is okay"
   ]
  },
  {
   "cell_type": "code",
   "execution_count": 13,
   "id": "27dee28d-502e-45d0-8a2e-ecad5d465742",
   "metadata": {},
   "outputs": [
    {
     "data": {
      "text/plain": [
       "Married      1192\n",
       "Single        498\n",
       "Divorced      242\n",
       "NaN           208\n",
       "Widowed       166\n",
       "Separated      95\n",
       "Name: Marital, dtype: int64"
      ]
     },
     "execution_count": 13,
     "metadata": {},
     "output_type": "execute_result"
    }
   ],
   "source": [
    "#looking at value counts for all object features\n",
    "df.Marital.value_counts(dropna=False)"
   ]
  },
  {
   "cell_type": "markdown",
   "id": "6c621c83-e294-4029-a90b-d11ed41455c1",
   "metadata": {},
   "source": [
    "Also this seems to be okay with no inconsistencies"
   ]
  },
  {
   "cell_type": "code",
   "execution_count": 14,
   "id": "8e427d54-aa8a-4ac2-916c-19fefa383497",
   "metadata": {},
   "outputs": [
    {
     "data": {
      "text/plain": [
       "White          933\n",
       "Black          548\n",
       "Asian          349\n",
       "Hispanic       257\n",
       "MexAmerican    253\n",
       "Other           61\n",
       "Name: Race, dtype: int64"
      ]
     },
     "execution_count": 14,
     "metadata": {},
     "output_type": "execute_result"
    }
   ],
   "source": [
    "#looking at value counts for all object features\n",
    "df.Race.value_counts(dropna=False)"
   ]
  },
  {
   "cell_type": "markdown",
   "id": "92489c6c-1553-4f9b-b65a-011b8815e26c",
   "metadata": {},
   "source": [
    "No inconsistencies"
   ]
  },
  {
   "cell_type": "code",
   "execution_count": 15,
   "id": "77d2e6ed-0cc6-4133-8088-871466704772",
   "metadata": {},
   "outputs": [
    {
     "data": {
      "text/plain": [
       "No MetSyn    1579\n",
       "MetSyn        822\n",
       "Name: MetabolicSyndrome, dtype: int64"
      ]
     },
     "execution_count": 15,
     "metadata": {},
     "output_type": "execute_result"
    }
   ],
   "source": [
    "#looking at value counts for all object features\n",
    "df.MetabolicSyndrome.value_counts(dropna=False)"
   ]
  },
  {
   "cell_type": "markdown",
   "id": "328504c6-9999-44d2-b0a8-f7b436bcae54",
   "metadata": {},
   "source": [
    "will need to change to 0 and 1"
   ]
  },
  {
   "cell_type": "code",
   "execution_count": 16,
   "id": "090a88a5-7a1a-425e-9276-2b192ba81527",
   "metadata": {},
   "outputs": [
    {
     "data": {
      "text/plain": [
       "0    1579\n",
       "1     822\n",
       "Name: MetabolicSyndrome, dtype: int64"
      ]
     },
     "execution_count": 16,
     "metadata": {},
     "output_type": "execute_result"
    }
   ],
   "source": [
    "#replacing values in MetabolicSyndrome with 0 or 1\n",
    "df['MetabolicSyndrome'] = df['MetabolicSyndrome'].replace({'MetSyn':1, 'No MetSyn':0})\n",
    "df.MetabolicSyndrome.value_counts()"
   ]
  },
  {
   "cell_type": "code",
   "execution_count": 17,
   "id": "8e64ed9f-5d84-4067-8e2d-4136db1297af",
   "metadata": {},
   "outputs": [],
   "source": [
    "#preprocessing the data\n",
    "# Preprocessing tools\n",
    "from sklearn.model_selection import train_test_split\n",
    "from sklearn.preprocessing import StandardScaler, OneHotEncoder, OrdinalEncoder\n",
    "from imblearn.over_sampling import SMOTE\n",
    "from sklearn.pipeline import make_pipeline\n",
    "from sklearn.impute import SimpleImputer\n",
    "from sklearn.compose import ColumnTransformer\n",
    "from sklearn.compose import make_column_selector as selector\n",
    "# Models\n",
    "from sklearn.ensemble import RandomForestClassifier\n",
    "from sklearn import set_config\n",
    "set_config(transform_output='pandas')"
   ]
  },
  {
   "cell_type": "code",
   "execution_count": 18,
   "id": "2427b38e-7009-41a9-a5e4-e2629c877786",
   "metadata": {},
   "outputs": [
    {
     "data": {
      "text/html": [
       "<div>\n",
       "<style scoped>\n",
       "    .dataframe tbody tr th:only-of-type {\n",
       "        vertical-align: middle;\n",
       "    }\n",
       "\n",
       "    .dataframe tbody tr th {\n",
       "        vertical-align: top;\n",
       "    }\n",
       "\n",
       "    .dataframe thead th {\n",
       "        text-align: right;\n",
       "    }\n",
       "</style>\n",
       "<table border=\"1\" class=\"dataframe\">\n",
       "  <thead>\n",
       "    <tr style=\"text-align: right;\">\n",
       "      <th></th>\n",
       "      <th>Age</th>\n",
       "      <th>Sex</th>\n",
       "      <th>Marital</th>\n",
       "      <th>Income</th>\n",
       "      <th>Race</th>\n",
       "      <th>WaistCirc</th>\n",
       "      <th>BMI</th>\n",
       "      <th>Albuminuria</th>\n",
       "      <th>UrAlbCr</th>\n",
       "      <th>UricAcid</th>\n",
       "      <th>BloodGlucose</th>\n",
       "      <th>HDL</th>\n",
       "      <th>Triglycerides</th>\n",
       "    </tr>\n",
       "  </thead>\n",
       "  <tbody>\n",
       "    <tr>\n",
       "      <th>263</th>\n",
       "      <td>46</td>\n",
       "      <td>Female</td>\n",
       "      <td>Married</td>\n",
       "      <td>8200.0</td>\n",
       "      <td>White</td>\n",
       "      <td>124.0</td>\n",
       "      <td>40.8</td>\n",
       "      <td>0</td>\n",
       "      <td>18.47</td>\n",
       "      <td>3.3</td>\n",
       "      <td>140</td>\n",
       "      <td>53</td>\n",
       "      <td>198</td>\n",
       "    </tr>\n",
       "    <tr>\n",
       "      <th>2073</th>\n",
       "      <td>34</td>\n",
       "      <td>Male</td>\n",
       "      <td>Separated</td>\n",
       "      <td>3500.0</td>\n",
       "      <td>MexAmerican</td>\n",
       "      <td>86.2</td>\n",
       "      <td>24.5</td>\n",
       "      <td>0</td>\n",
       "      <td>16.14</td>\n",
       "      <td>6.1</td>\n",
       "      <td>114</td>\n",
       "      <td>83</td>\n",
       "      <td>60</td>\n",
       "    </tr>\n",
       "    <tr>\n",
       "      <th>632</th>\n",
       "      <td>33</td>\n",
       "      <td>Female</td>\n",
       "      <td>Married</td>\n",
       "      <td>3500.0</td>\n",
       "      <td>MexAmerican</td>\n",
       "      <td>75.0</td>\n",
       "      <td>25.0</td>\n",
       "      <td>0</td>\n",
       "      <td>11.54</td>\n",
       "      <td>3.4</td>\n",
       "      <td>97</td>\n",
       "      <td>44</td>\n",
       "      <td>60</td>\n",
       "    </tr>\n",
       "    <tr>\n",
       "      <th>1732</th>\n",
       "      <td>49</td>\n",
       "      <td>Female</td>\n",
       "      <td>Married</td>\n",
       "      <td>9000.0</td>\n",
       "      <td>Hispanic</td>\n",
       "      <td>95.7</td>\n",
       "      <td>33.3</td>\n",
       "      <td>0</td>\n",
       "      <td>3.81</td>\n",
       "      <td>2.7</td>\n",
       "      <td>89</td>\n",
       "      <td>51</td>\n",
       "      <td>139</td>\n",
       "    </tr>\n",
       "    <tr>\n",
       "      <th>765</th>\n",
       "      <td>30</td>\n",
       "      <td>Male</td>\n",
       "      <td>Married</td>\n",
       "      <td>9000.0</td>\n",
       "      <td>Asian</td>\n",
       "      <td>75.7</td>\n",
       "      <td>21.9</td>\n",
       "      <td>0</td>\n",
       "      <td>7.76</td>\n",
       "      <td>7.1</td>\n",
       "      <td>81</td>\n",
       "      <td>58</td>\n",
       "      <td>394</td>\n",
       "    </tr>\n",
       "  </tbody>\n",
       "</table>\n",
       "</div>"
      ],
      "text/plain": [
       "      Age     Sex    Marital  Income         Race  WaistCirc   BMI  \\\n",
       "263    46  Female    Married  8200.0        White      124.0  40.8   \n",
       "2073   34    Male  Separated  3500.0  MexAmerican       86.2  24.5   \n",
       "632    33  Female    Married  3500.0  MexAmerican       75.0  25.0   \n",
       "1732   49  Female    Married  9000.0     Hispanic       95.7  33.3   \n",
       "765    30    Male    Married  9000.0        Asian       75.7  21.9   \n",
       "\n",
       "      Albuminuria  UrAlbCr  UricAcid  BloodGlucose  HDL  Triglycerides  \n",
       "263             0    18.47       3.3           140   53            198  \n",
       "2073            0    16.14       6.1           114   83             60  \n",
       "632             0    11.54       3.4            97   44             60  \n",
       "1732            0     3.81       2.7            89   51            139  \n",
       "765             0     7.76       7.1            81   58            394  "
      ]
     },
     "execution_count": 18,
     "metadata": {},
     "output_type": "execute_result"
    }
   ],
   "source": [
    "#splitting the data\n",
    "X = df.drop(['MetabolicSyndrome', 'seqn'], axis=1)\n",
    "y = df['MetabolicSyndrome']\n",
    "X_train, X_test, y_train, y_test = train_test_split(X, y, random_state=42)\n",
    "X_train.head()"
   ]
  },
  {
   "cell_type": "code",
   "execution_count": 19,
   "id": "15fa2ae7-3a59-4da1-a35e-f186395bb763",
   "metadata": {},
   "outputs": [
    {
     "name": "stdout",
     "output_type": "stream",
     "text": [
      "Categorical columns Index(['Sex', 'Marital', 'Race'], dtype='object')\n",
      "Ordinal columns ['Albuminuria']\n",
      "Numeric columns Index(['Age', 'Income', 'WaistCirc', 'BMI', 'UrAlbCr', 'UricAcid',\n",
      "       'BloodGlucose', 'HDL', 'Triglycerides'],\n",
      "      dtype='object')\n"
     ]
    },
    {
     "data": {
      "text/plain": [
       "('Numeric',\n",
       " Pipeline(steps=[('simpleimputer', SimpleImputer(strategy='median')),\n",
       "                 ('standardscaler', StandardScaler())]),\n",
       " Index(['Age', 'Income', 'WaistCirc', 'BMI', 'UrAlbCr', 'UricAcid',\n",
       "        'BloodGlucose', 'HDL', 'Triglycerides'],\n",
       "       dtype='object'))"
      ]
     },
     "execution_count": 19,
     "metadata": {},
     "output_type": "execute_result"
    }
   ],
   "source": [
    "#preprocessing the data\n",
    "#for categorical columns\n",
    "cat_cols = X_train.select_dtypes(include='object').columns\n",
    "print('Categorical columns', cat_cols)\n",
    "#impute missing values\n",
    "imputer = SimpleImputer(strategy='constant', fill_value='missing')\n",
    "#encoding\n",
    "encoder = OneHotEncoder(handle_unknown='ignore', sparse_output=False)\n",
    "cat_pipe = make_pipeline(imputer, encoder)\n",
    "#categorical tuple\n",
    "cat_tuple = ('Categorical',cat_pipe, cat_cols)\n",
    "#ordinal column\n",
    "ord_cols = ['Albuminuria']\n",
    "print('Ordinal columns', ord_cols)\n",
    "ord_encoder = OrdinalEncoder()\n",
    "scaler = StandardScaler()\n",
    "ord_pipe = make_pipeline(ord_encoder, scaler)\n",
    "#ordinal tuple\n",
    "ord_tuple = ('Ordinal', ord_pipe, ord_cols)\n",
    "#numeric columns\n",
    "num_cols = X_train.select_dtypes(include=[\"number\"]).drop(columns=['Albuminuria']).columns\n",
    "print('Numeric columns', num_cols)\n",
    "#imputer\n",
    "num_imp = SimpleImputer(strategy='median')\n",
    "#scaler\n",
    "scaler = StandardScaler()\n",
    "num_pipe = make_pipeline(num_imp, scaler)\n",
    "#numeric tuple\n",
    "num_tuple = ('Numeric', num_pipe, num_cols)\n",
    "num_tuple"
   ]
  },
  {
   "cell_type": "code",
   "execution_count": 20,
   "id": "96c4178f-7a16-4196-b1d9-d5ba4319c1ed",
   "metadata": {},
   "outputs": [
    {
     "data": {
      "text/html": [
       "<style>#sk-container-id-1 {color: black;background-color: white;}#sk-container-id-1 pre{padding: 0;}#sk-container-id-1 div.sk-toggleable {background-color: white;}#sk-container-id-1 label.sk-toggleable__label {cursor: pointer;display: block;width: 100%;margin-bottom: 0;padding: 0.3em;box-sizing: border-box;text-align: center;}#sk-container-id-1 label.sk-toggleable__label-arrow:before {content: \"▸\";float: left;margin-right: 0.25em;color: #696969;}#sk-container-id-1 label.sk-toggleable__label-arrow:hover:before {color: black;}#sk-container-id-1 div.sk-estimator:hover label.sk-toggleable__label-arrow:before {color: black;}#sk-container-id-1 div.sk-toggleable__content {max-height: 0;max-width: 0;overflow: hidden;text-align: left;background-color: #f0f8ff;}#sk-container-id-1 div.sk-toggleable__content pre {margin: 0.2em;color: black;border-radius: 0.25em;background-color: #f0f8ff;}#sk-container-id-1 input.sk-toggleable__control:checked~div.sk-toggleable__content {max-height: 200px;max-width: 100%;overflow: auto;}#sk-container-id-1 input.sk-toggleable__control:checked~label.sk-toggleable__label-arrow:before {content: \"▾\";}#sk-container-id-1 div.sk-estimator input.sk-toggleable__control:checked~label.sk-toggleable__label {background-color: #d4ebff;}#sk-container-id-1 div.sk-label input.sk-toggleable__control:checked~label.sk-toggleable__label {background-color: #d4ebff;}#sk-container-id-1 input.sk-hidden--visually {border: 0;clip: rect(1px 1px 1px 1px);clip: rect(1px, 1px, 1px, 1px);height: 1px;margin: -1px;overflow: hidden;padding: 0;position: absolute;width: 1px;}#sk-container-id-1 div.sk-estimator {font-family: monospace;background-color: #f0f8ff;border: 1px dotted black;border-radius: 0.25em;box-sizing: border-box;margin-bottom: 0.5em;}#sk-container-id-1 div.sk-estimator:hover {background-color: #d4ebff;}#sk-container-id-1 div.sk-parallel-item::after {content: \"\";width: 100%;border-bottom: 1px solid gray;flex-grow: 1;}#sk-container-id-1 div.sk-label:hover label.sk-toggleable__label {background-color: #d4ebff;}#sk-container-id-1 div.sk-serial::before {content: \"\";position: absolute;border-left: 1px solid gray;box-sizing: border-box;top: 0;bottom: 0;left: 50%;z-index: 0;}#sk-container-id-1 div.sk-serial {display: flex;flex-direction: column;align-items: center;background-color: white;padding-right: 0.2em;padding-left: 0.2em;position: relative;}#sk-container-id-1 div.sk-item {position: relative;z-index: 1;}#sk-container-id-1 div.sk-parallel {display: flex;align-items: stretch;justify-content: center;background-color: white;position: relative;}#sk-container-id-1 div.sk-item::before, #sk-container-id-1 div.sk-parallel-item::before {content: \"\";position: absolute;border-left: 1px solid gray;box-sizing: border-box;top: 0;bottom: 0;left: 50%;z-index: -1;}#sk-container-id-1 div.sk-parallel-item {display: flex;flex-direction: column;z-index: 1;position: relative;background-color: white;}#sk-container-id-1 div.sk-parallel-item:first-child::after {align-self: flex-end;width: 50%;}#sk-container-id-1 div.sk-parallel-item:last-child::after {align-self: flex-start;width: 50%;}#sk-container-id-1 div.sk-parallel-item:only-child::after {width: 0;}#sk-container-id-1 div.sk-dashed-wrapped {border: 1px dashed gray;margin: 0 0.4em 0.5em 0.4em;box-sizing: border-box;padding-bottom: 0.4em;background-color: white;}#sk-container-id-1 div.sk-label label {font-family: monospace;font-weight: bold;display: inline-block;line-height: 1.2em;}#sk-container-id-1 div.sk-label-container {text-align: center;}#sk-container-id-1 div.sk-container {/* jupyter's `normalize.less` sets `[hidden] { display: none; }` but bootstrap.min.css set `[hidden] { display: none !important; }` so we also need the `!important` here to be able to override the default hidden behavior on the sphinx rendered scikit-learn.org. See: https://github.com/scikit-learn/scikit-learn/issues/21755 */display: inline-block !important;position: relative;}#sk-container-id-1 div.sk-text-repr-fallback {display: none;}</style><div id=\"sk-container-id-1\" class=\"sk-top-container\"><div class=\"sk-text-repr-fallback\"><pre>ColumnTransformer(transformers=[(&#x27;Categorical&#x27;,\n",
       "                                 Pipeline(steps=[(&#x27;simpleimputer&#x27;,\n",
       "                                                  SimpleImputer(fill_value=&#x27;missing&#x27;,\n",
       "                                                                strategy=&#x27;constant&#x27;)),\n",
       "                                                 (&#x27;onehotencoder&#x27;,\n",
       "                                                  OneHotEncoder(handle_unknown=&#x27;ignore&#x27;,\n",
       "                                                                sparse_output=False))]),\n",
       "                                 Index([&#x27;Sex&#x27;, &#x27;Marital&#x27;, &#x27;Race&#x27;], dtype=&#x27;object&#x27;)),\n",
       "                                (&#x27;Ordinal&#x27;,\n",
       "                                 Pipeline(steps=[(&#x27;ordinalencoder&#x27;,\n",
       "                                                  OrdinalEncoder()),\n",
       "                                                 (&#x27;standardscaler&#x27;,\n",
       "                                                  StandardScaler())]),\n",
       "                                 [&#x27;Albuminuria&#x27;]),\n",
       "                                (&#x27;Numeric&#x27;,\n",
       "                                 Pipeline(steps=[(&#x27;simpleimputer&#x27;,\n",
       "                                                  SimpleImputer(strategy=&#x27;median&#x27;)),\n",
       "                                                 (&#x27;standardscaler&#x27;,\n",
       "                                                  StandardScaler())]),\n",
       "                                 Index([&#x27;Age&#x27;, &#x27;Income&#x27;, &#x27;WaistCirc&#x27;, &#x27;BMI&#x27;, &#x27;UrAlbCr&#x27;, &#x27;UricAcid&#x27;,\n",
       "       &#x27;BloodGlucose&#x27;, &#x27;HDL&#x27;, &#x27;Triglycerides&#x27;],\n",
       "      dtype=&#x27;object&#x27;))],\n",
       "                  verbose_feature_names_out=False)</pre><b>In a Jupyter environment, please rerun this cell to show the HTML representation or trust the notebook. <br />On GitHub, the HTML representation is unable to render, please try loading this page with nbviewer.org.</b></div><div class=\"sk-container\" hidden><div class=\"sk-item sk-dashed-wrapped\"><div class=\"sk-label-container\"><div class=\"sk-label sk-toggleable\"><input class=\"sk-toggleable__control sk-hidden--visually\" id=\"sk-estimator-id-1\" type=\"checkbox\" ><label for=\"sk-estimator-id-1\" class=\"sk-toggleable__label sk-toggleable__label-arrow\">ColumnTransformer</label><div class=\"sk-toggleable__content\"><pre>ColumnTransformer(transformers=[(&#x27;Categorical&#x27;,\n",
       "                                 Pipeline(steps=[(&#x27;simpleimputer&#x27;,\n",
       "                                                  SimpleImputer(fill_value=&#x27;missing&#x27;,\n",
       "                                                                strategy=&#x27;constant&#x27;)),\n",
       "                                                 (&#x27;onehotencoder&#x27;,\n",
       "                                                  OneHotEncoder(handle_unknown=&#x27;ignore&#x27;,\n",
       "                                                                sparse_output=False))]),\n",
       "                                 Index([&#x27;Sex&#x27;, &#x27;Marital&#x27;, &#x27;Race&#x27;], dtype=&#x27;object&#x27;)),\n",
       "                                (&#x27;Ordinal&#x27;,\n",
       "                                 Pipeline(steps=[(&#x27;ordinalencoder&#x27;,\n",
       "                                                  OrdinalEncoder()),\n",
       "                                                 (&#x27;standardscaler&#x27;,\n",
       "                                                  StandardScaler())]),\n",
       "                                 [&#x27;Albuminuria&#x27;]),\n",
       "                                (&#x27;Numeric&#x27;,\n",
       "                                 Pipeline(steps=[(&#x27;simpleimputer&#x27;,\n",
       "                                                  SimpleImputer(strategy=&#x27;median&#x27;)),\n",
       "                                                 (&#x27;standardscaler&#x27;,\n",
       "                                                  StandardScaler())]),\n",
       "                                 Index([&#x27;Age&#x27;, &#x27;Income&#x27;, &#x27;WaistCirc&#x27;, &#x27;BMI&#x27;, &#x27;UrAlbCr&#x27;, &#x27;UricAcid&#x27;,\n",
       "       &#x27;BloodGlucose&#x27;, &#x27;HDL&#x27;, &#x27;Triglycerides&#x27;],\n",
       "      dtype=&#x27;object&#x27;))],\n",
       "                  verbose_feature_names_out=False)</pre></div></div></div><div class=\"sk-parallel\"><div class=\"sk-parallel-item\"><div class=\"sk-item\"><div class=\"sk-label-container\"><div class=\"sk-label sk-toggleable\"><input class=\"sk-toggleable__control sk-hidden--visually\" id=\"sk-estimator-id-2\" type=\"checkbox\" ><label for=\"sk-estimator-id-2\" class=\"sk-toggleable__label sk-toggleable__label-arrow\">Categorical</label><div class=\"sk-toggleable__content\"><pre>Index([&#x27;Sex&#x27;, &#x27;Marital&#x27;, &#x27;Race&#x27;], dtype=&#x27;object&#x27;)</pre></div></div></div><div class=\"sk-serial\"><div class=\"sk-item\"><div class=\"sk-serial\"><div class=\"sk-item\"><div class=\"sk-estimator sk-toggleable\"><input class=\"sk-toggleable__control sk-hidden--visually\" id=\"sk-estimator-id-3\" type=\"checkbox\" ><label for=\"sk-estimator-id-3\" class=\"sk-toggleable__label sk-toggleable__label-arrow\">SimpleImputer</label><div class=\"sk-toggleable__content\"><pre>SimpleImputer(fill_value=&#x27;missing&#x27;, strategy=&#x27;constant&#x27;)</pre></div></div></div><div class=\"sk-item\"><div class=\"sk-estimator sk-toggleable\"><input class=\"sk-toggleable__control sk-hidden--visually\" id=\"sk-estimator-id-4\" type=\"checkbox\" ><label for=\"sk-estimator-id-4\" class=\"sk-toggleable__label sk-toggleable__label-arrow\">OneHotEncoder</label><div class=\"sk-toggleable__content\"><pre>OneHotEncoder(handle_unknown=&#x27;ignore&#x27;, sparse_output=False)</pre></div></div></div></div></div></div></div></div><div class=\"sk-parallel-item\"><div class=\"sk-item\"><div class=\"sk-label-container\"><div class=\"sk-label sk-toggleable\"><input class=\"sk-toggleable__control sk-hidden--visually\" id=\"sk-estimator-id-5\" type=\"checkbox\" ><label for=\"sk-estimator-id-5\" class=\"sk-toggleable__label sk-toggleable__label-arrow\">Ordinal</label><div class=\"sk-toggleable__content\"><pre>[&#x27;Albuminuria&#x27;]</pre></div></div></div><div class=\"sk-serial\"><div class=\"sk-item\"><div class=\"sk-serial\"><div class=\"sk-item\"><div class=\"sk-estimator sk-toggleable\"><input class=\"sk-toggleable__control sk-hidden--visually\" id=\"sk-estimator-id-6\" type=\"checkbox\" ><label for=\"sk-estimator-id-6\" class=\"sk-toggleable__label sk-toggleable__label-arrow\">OrdinalEncoder</label><div class=\"sk-toggleable__content\"><pre>OrdinalEncoder()</pre></div></div></div><div class=\"sk-item\"><div class=\"sk-estimator sk-toggleable\"><input class=\"sk-toggleable__control sk-hidden--visually\" id=\"sk-estimator-id-7\" type=\"checkbox\" ><label for=\"sk-estimator-id-7\" class=\"sk-toggleable__label sk-toggleable__label-arrow\">StandardScaler</label><div class=\"sk-toggleable__content\"><pre>StandardScaler()</pre></div></div></div></div></div></div></div></div><div class=\"sk-parallel-item\"><div class=\"sk-item\"><div class=\"sk-label-container\"><div class=\"sk-label sk-toggleable\"><input class=\"sk-toggleable__control sk-hidden--visually\" id=\"sk-estimator-id-8\" type=\"checkbox\" ><label for=\"sk-estimator-id-8\" class=\"sk-toggleable__label sk-toggleable__label-arrow\">Numeric</label><div class=\"sk-toggleable__content\"><pre>Index([&#x27;Age&#x27;, &#x27;Income&#x27;, &#x27;WaistCirc&#x27;, &#x27;BMI&#x27;, &#x27;UrAlbCr&#x27;, &#x27;UricAcid&#x27;,\n",
       "       &#x27;BloodGlucose&#x27;, &#x27;HDL&#x27;, &#x27;Triglycerides&#x27;],\n",
       "      dtype=&#x27;object&#x27;)</pre></div></div></div><div class=\"sk-serial\"><div class=\"sk-item\"><div class=\"sk-serial\"><div class=\"sk-item\"><div class=\"sk-estimator sk-toggleable\"><input class=\"sk-toggleable__control sk-hidden--visually\" id=\"sk-estimator-id-9\" type=\"checkbox\" ><label for=\"sk-estimator-id-9\" class=\"sk-toggleable__label sk-toggleable__label-arrow\">SimpleImputer</label><div class=\"sk-toggleable__content\"><pre>SimpleImputer(strategy=&#x27;median&#x27;)</pre></div></div></div><div class=\"sk-item\"><div class=\"sk-estimator sk-toggleable\"><input class=\"sk-toggleable__control sk-hidden--visually\" id=\"sk-estimator-id-10\" type=\"checkbox\" ><label for=\"sk-estimator-id-10\" class=\"sk-toggleable__label sk-toggleable__label-arrow\">StandardScaler</label><div class=\"sk-toggleable__content\"><pre>StandardScaler()</pre></div></div></div></div></div></div></div></div></div></div></div></div>"
      ],
      "text/plain": [
       "ColumnTransformer(transformers=[('Categorical',\n",
       "                                 Pipeline(steps=[('simpleimputer',\n",
       "                                                  SimpleImputer(fill_value='missing',\n",
       "                                                                strategy='constant')),\n",
       "                                                 ('onehotencoder',\n",
       "                                                  OneHotEncoder(handle_unknown='ignore',\n",
       "                                                                sparse_output=False))]),\n",
       "                                 Index(['Sex', 'Marital', 'Race'], dtype='object')),\n",
       "                                ('Ordinal',\n",
       "                                 Pipeline(steps=[('ordinalencoder',\n",
       "                                                  OrdinalEncoder()),\n",
       "                                                 ('standardscaler',\n",
       "                                                  StandardScaler())]),\n",
       "                                 ['Albuminuria']),\n",
       "                                ('Numeric',\n",
       "                                 Pipeline(steps=[('simpleimputer',\n",
       "                                                  SimpleImputer(strategy='median')),\n",
       "                                                 ('standardscaler',\n",
       "                                                  StandardScaler())]),\n",
       "                                 Index(['Age', 'Income', 'WaistCirc', 'BMI', 'UrAlbCr', 'UricAcid',\n",
       "       'BloodGlucose', 'HDL', 'Triglycerides'],\n",
       "      dtype='object'))],\n",
       "                  verbose_feature_names_out=False)"
      ]
     },
     "execution_count": 20,
     "metadata": {},
     "output_type": "execute_result"
    }
   ],
   "source": [
    "#preprocessor \n",
    "preprocessor = ColumnTransformer([cat_tuple, ord_tuple, num_tuple], verbose_feature_names_out=False)\n",
    "preprocessor"
   ]
  },
  {
   "cell_type": "code",
   "execution_count": 21,
   "id": "c49b48bb-2c13-4688-b03a-52df13a9d4a8",
   "metadata": {},
   "outputs": [
    {
     "data": {
      "text/html": [
       "<style>#sk-container-id-2 {color: black;background-color: white;}#sk-container-id-2 pre{padding: 0;}#sk-container-id-2 div.sk-toggleable {background-color: white;}#sk-container-id-2 label.sk-toggleable__label {cursor: pointer;display: block;width: 100%;margin-bottom: 0;padding: 0.3em;box-sizing: border-box;text-align: center;}#sk-container-id-2 label.sk-toggleable__label-arrow:before {content: \"▸\";float: left;margin-right: 0.25em;color: #696969;}#sk-container-id-2 label.sk-toggleable__label-arrow:hover:before {color: black;}#sk-container-id-2 div.sk-estimator:hover label.sk-toggleable__label-arrow:before {color: black;}#sk-container-id-2 div.sk-toggleable__content {max-height: 0;max-width: 0;overflow: hidden;text-align: left;background-color: #f0f8ff;}#sk-container-id-2 div.sk-toggleable__content pre {margin: 0.2em;color: black;border-radius: 0.25em;background-color: #f0f8ff;}#sk-container-id-2 input.sk-toggleable__control:checked~div.sk-toggleable__content {max-height: 200px;max-width: 100%;overflow: auto;}#sk-container-id-2 input.sk-toggleable__control:checked~label.sk-toggleable__label-arrow:before {content: \"▾\";}#sk-container-id-2 div.sk-estimator input.sk-toggleable__control:checked~label.sk-toggleable__label {background-color: #d4ebff;}#sk-container-id-2 div.sk-label input.sk-toggleable__control:checked~label.sk-toggleable__label {background-color: #d4ebff;}#sk-container-id-2 input.sk-hidden--visually {border: 0;clip: rect(1px 1px 1px 1px);clip: rect(1px, 1px, 1px, 1px);height: 1px;margin: -1px;overflow: hidden;padding: 0;position: absolute;width: 1px;}#sk-container-id-2 div.sk-estimator {font-family: monospace;background-color: #f0f8ff;border: 1px dotted black;border-radius: 0.25em;box-sizing: border-box;margin-bottom: 0.5em;}#sk-container-id-2 div.sk-estimator:hover {background-color: #d4ebff;}#sk-container-id-2 div.sk-parallel-item::after {content: \"\";width: 100%;border-bottom: 1px solid gray;flex-grow: 1;}#sk-container-id-2 div.sk-label:hover label.sk-toggleable__label {background-color: #d4ebff;}#sk-container-id-2 div.sk-serial::before {content: \"\";position: absolute;border-left: 1px solid gray;box-sizing: border-box;top: 0;bottom: 0;left: 50%;z-index: 0;}#sk-container-id-2 div.sk-serial {display: flex;flex-direction: column;align-items: center;background-color: white;padding-right: 0.2em;padding-left: 0.2em;position: relative;}#sk-container-id-2 div.sk-item {position: relative;z-index: 1;}#sk-container-id-2 div.sk-parallel {display: flex;align-items: stretch;justify-content: center;background-color: white;position: relative;}#sk-container-id-2 div.sk-item::before, #sk-container-id-2 div.sk-parallel-item::before {content: \"\";position: absolute;border-left: 1px solid gray;box-sizing: border-box;top: 0;bottom: 0;left: 50%;z-index: -1;}#sk-container-id-2 div.sk-parallel-item {display: flex;flex-direction: column;z-index: 1;position: relative;background-color: white;}#sk-container-id-2 div.sk-parallel-item:first-child::after {align-self: flex-end;width: 50%;}#sk-container-id-2 div.sk-parallel-item:last-child::after {align-self: flex-start;width: 50%;}#sk-container-id-2 div.sk-parallel-item:only-child::after {width: 0;}#sk-container-id-2 div.sk-dashed-wrapped {border: 1px dashed gray;margin: 0 0.4em 0.5em 0.4em;box-sizing: border-box;padding-bottom: 0.4em;background-color: white;}#sk-container-id-2 div.sk-label label {font-family: monospace;font-weight: bold;display: inline-block;line-height: 1.2em;}#sk-container-id-2 div.sk-label-container {text-align: center;}#sk-container-id-2 div.sk-container {/* jupyter's `normalize.less` sets `[hidden] { display: none; }` but bootstrap.min.css set `[hidden] { display: none !important; }` so we also need the `!important` here to be able to override the default hidden behavior on the sphinx rendered scikit-learn.org. See: https://github.com/scikit-learn/scikit-learn/issues/21755 */display: inline-block !important;position: relative;}#sk-container-id-2 div.sk-text-repr-fallback {display: none;}</style><div id=\"sk-container-id-2\" class=\"sk-top-container\"><div class=\"sk-text-repr-fallback\"><pre>Pipeline(steps=[(&#x27;columntransformer&#x27;,\n",
       "                 ColumnTransformer(transformers=[(&#x27;Categorical&#x27;,\n",
       "                                                  Pipeline(steps=[(&#x27;simpleimputer&#x27;,\n",
       "                                                                   SimpleImputer(fill_value=&#x27;missing&#x27;,\n",
       "                                                                                 strategy=&#x27;constant&#x27;)),\n",
       "                                                                  (&#x27;onehotencoder&#x27;,\n",
       "                                                                   OneHotEncoder(handle_unknown=&#x27;ignore&#x27;,\n",
       "                                                                                 sparse_output=False))]),\n",
       "                                                  Index([&#x27;Sex&#x27;, &#x27;Marital&#x27;, &#x27;Race&#x27;], dtype=&#x27;object&#x27;)),\n",
       "                                                 (&#x27;Ordinal&#x27;,\n",
       "                                                  Pipeline(steps=[(&#x27;ordinalencoder&#x27;,\n",
       "                                                                   Ordi...\n",
       "                                                  [&#x27;Albuminuria&#x27;]),\n",
       "                                                 (&#x27;Numeric&#x27;,\n",
       "                                                  Pipeline(steps=[(&#x27;simpleimputer&#x27;,\n",
       "                                                                   SimpleImputer(strategy=&#x27;median&#x27;)),\n",
       "                                                                  (&#x27;standardscaler&#x27;,\n",
       "                                                                   StandardScaler())]),\n",
       "                                                  Index([&#x27;Age&#x27;, &#x27;Income&#x27;, &#x27;WaistCirc&#x27;, &#x27;BMI&#x27;, &#x27;UrAlbCr&#x27;, &#x27;UricAcid&#x27;,\n",
       "       &#x27;BloodGlucose&#x27;, &#x27;HDL&#x27;, &#x27;Triglycerides&#x27;],\n",
       "      dtype=&#x27;object&#x27;))],\n",
       "                                   verbose_feature_names_out=False)),\n",
       "                (&#x27;randomforestclassifier&#x27;,\n",
       "                 RandomForestClassifier(random_state=42))])</pre><b>In a Jupyter environment, please rerun this cell to show the HTML representation or trust the notebook. <br />On GitHub, the HTML representation is unable to render, please try loading this page with nbviewer.org.</b></div><div class=\"sk-container\" hidden><div class=\"sk-item sk-dashed-wrapped\"><div class=\"sk-label-container\"><div class=\"sk-label sk-toggleable\"><input class=\"sk-toggleable__control sk-hidden--visually\" id=\"sk-estimator-id-11\" type=\"checkbox\" ><label for=\"sk-estimator-id-11\" class=\"sk-toggleable__label sk-toggleable__label-arrow\">Pipeline</label><div class=\"sk-toggleable__content\"><pre>Pipeline(steps=[(&#x27;columntransformer&#x27;,\n",
       "                 ColumnTransformer(transformers=[(&#x27;Categorical&#x27;,\n",
       "                                                  Pipeline(steps=[(&#x27;simpleimputer&#x27;,\n",
       "                                                                   SimpleImputer(fill_value=&#x27;missing&#x27;,\n",
       "                                                                                 strategy=&#x27;constant&#x27;)),\n",
       "                                                                  (&#x27;onehotencoder&#x27;,\n",
       "                                                                   OneHotEncoder(handle_unknown=&#x27;ignore&#x27;,\n",
       "                                                                                 sparse_output=False))]),\n",
       "                                                  Index([&#x27;Sex&#x27;, &#x27;Marital&#x27;, &#x27;Race&#x27;], dtype=&#x27;object&#x27;)),\n",
       "                                                 (&#x27;Ordinal&#x27;,\n",
       "                                                  Pipeline(steps=[(&#x27;ordinalencoder&#x27;,\n",
       "                                                                   Ordi...\n",
       "                                                  [&#x27;Albuminuria&#x27;]),\n",
       "                                                 (&#x27;Numeric&#x27;,\n",
       "                                                  Pipeline(steps=[(&#x27;simpleimputer&#x27;,\n",
       "                                                                   SimpleImputer(strategy=&#x27;median&#x27;)),\n",
       "                                                                  (&#x27;standardscaler&#x27;,\n",
       "                                                                   StandardScaler())]),\n",
       "                                                  Index([&#x27;Age&#x27;, &#x27;Income&#x27;, &#x27;WaistCirc&#x27;, &#x27;BMI&#x27;, &#x27;UrAlbCr&#x27;, &#x27;UricAcid&#x27;,\n",
       "       &#x27;BloodGlucose&#x27;, &#x27;HDL&#x27;, &#x27;Triglycerides&#x27;],\n",
       "      dtype=&#x27;object&#x27;))],\n",
       "                                   verbose_feature_names_out=False)),\n",
       "                (&#x27;randomforestclassifier&#x27;,\n",
       "                 RandomForestClassifier(random_state=42))])</pre></div></div></div><div class=\"sk-serial\"><div class=\"sk-item sk-dashed-wrapped\"><div class=\"sk-label-container\"><div class=\"sk-label sk-toggleable\"><input class=\"sk-toggleable__control sk-hidden--visually\" id=\"sk-estimator-id-12\" type=\"checkbox\" ><label for=\"sk-estimator-id-12\" class=\"sk-toggleable__label sk-toggleable__label-arrow\">columntransformer: ColumnTransformer</label><div class=\"sk-toggleable__content\"><pre>ColumnTransformer(transformers=[(&#x27;Categorical&#x27;,\n",
       "                                 Pipeline(steps=[(&#x27;simpleimputer&#x27;,\n",
       "                                                  SimpleImputer(fill_value=&#x27;missing&#x27;,\n",
       "                                                                strategy=&#x27;constant&#x27;)),\n",
       "                                                 (&#x27;onehotencoder&#x27;,\n",
       "                                                  OneHotEncoder(handle_unknown=&#x27;ignore&#x27;,\n",
       "                                                                sparse_output=False))]),\n",
       "                                 Index([&#x27;Sex&#x27;, &#x27;Marital&#x27;, &#x27;Race&#x27;], dtype=&#x27;object&#x27;)),\n",
       "                                (&#x27;Ordinal&#x27;,\n",
       "                                 Pipeline(steps=[(&#x27;ordinalencoder&#x27;,\n",
       "                                                  OrdinalEncoder()),\n",
       "                                                 (&#x27;standardscaler&#x27;,\n",
       "                                                  StandardScaler())]),\n",
       "                                 [&#x27;Albuminuria&#x27;]),\n",
       "                                (&#x27;Numeric&#x27;,\n",
       "                                 Pipeline(steps=[(&#x27;simpleimputer&#x27;,\n",
       "                                                  SimpleImputer(strategy=&#x27;median&#x27;)),\n",
       "                                                 (&#x27;standardscaler&#x27;,\n",
       "                                                  StandardScaler())]),\n",
       "                                 Index([&#x27;Age&#x27;, &#x27;Income&#x27;, &#x27;WaistCirc&#x27;, &#x27;BMI&#x27;, &#x27;UrAlbCr&#x27;, &#x27;UricAcid&#x27;,\n",
       "       &#x27;BloodGlucose&#x27;, &#x27;HDL&#x27;, &#x27;Triglycerides&#x27;],\n",
       "      dtype=&#x27;object&#x27;))],\n",
       "                  verbose_feature_names_out=False)</pre></div></div></div><div class=\"sk-parallel\"><div class=\"sk-parallel-item\"><div class=\"sk-item\"><div class=\"sk-label-container\"><div class=\"sk-label sk-toggleable\"><input class=\"sk-toggleable__control sk-hidden--visually\" id=\"sk-estimator-id-13\" type=\"checkbox\" ><label for=\"sk-estimator-id-13\" class=\"sk-toggleable__label sk-toggleable__label-arrow\">Categorical</label><div class=\"sk-toggleable__content\"><pre>Index([&#x27;Sex&#x27;, &#x27;Marital&#x27;, &#x27;Race&#x27;], dtype=&#x27;object&#x27;)</pre></div></div></div><div class=\"sk-serial\"><div class=\"sk-item\"><div class=\"sk-serial\"><div class=\"sk-item\"><div class=\"sk-estimator sk-toggleable\"><input class=\"sk-toggleable__control sk-hidden--visually\" id=\"sk-estimator-id-14\" type=\"checkbox\" ><label for=\"sk-estimator-id-14\" class=\"sk-toggleable__label sk-toggleable__label-arrow\">SimpleImputer</label><div class=\"sk-toggleable__content\"><pre>SimpleImputer(fill_value=&#x27;missing&#x27;, strategy=&#x27;constant&#x27;)</pre></div></div></div><div class=\"sk-item\"><div class=\"sk-estimator sk-toggleable\"><input class=\"sk-toggleable__control sk-hidden--visually\" id=\"sk-estimator-id-15\" type=\"checkbox\" ><label for=\"sk-estimator-id-15\" class=\"sk-toggleable__label sk-toggleable__label-arrow\">OneHotEncoder</label><div class=\"sk-toggleable__content\"><pre>OneHotEncoder(handle_unknown=&#x27;ignore&#x27;, sparse_output=False)</pre></div></div></div></div></div></div></div></div><div class=\"sk-parallel-item\"><div class=\"sk-item\"><div class=\"sk-label-container\"><div class=\"sk-label sk-toggleable\"><input class=\"sk-toggleable__control sk-hidden--visually\" id=\"sk-estimator-id-16\" type=\"checkbox\" ><label for=\"sk-estimator-id-16\" class=\"sk-toggleable__label sk-toggleable__label-arrow\">Ordinal</label><div class=\"sk-toggleable__content\"><pre>[&#x27;Albuminuria&#x27;]</pre></div></div></div><div class=\"sk-serial\"><div class=\"sk-item\"><div class=\"sk-serial\"><div class=\"sk-item\"><div class=\"sk-estimator sk-toggleable\"><input class=\"sk-toggleable__control sk-hidden--visually\" id=\"sk-estimator-id-17\" type=\"checkbox\" ><label for=\"sk-estimator-id-17\" class=\"sk-toggleable__label sk-toggleable__label-arrow\">OrdinalEncoder</label><div class=\"sk-toggleable__content\"><pre>OrdinalEncoder()</pre></div></div></div><div class=\"sk-item\"><div class=\"sk-estimator sk-toggleable\"><input class=\"sk-toggleable__control sk-hidden--visually\" id=\"sk-estimator-id-18\" type=\"checkbox\" ><label for=\"sk-estimator-id-18\" class=\"sk-toggleable__label sk-toggleable__label-arrow\">StandardScaler</label><div class=\"sk-toggleable__content\"><pre>StandardScaler()</pre></div></div></div></div></div></div></div></div><div class=\"sk-parallel-item\"><div class=\"sk-item\"><div class=\"sk-label-container\"><div class=\"sk-label sk-toggleable\"><input class=\"sk-toggleable__control sk-hidden--visually\" id=\"sk-estimator-id-19\" type=\"checkbox\" ><label for=\"sk-estimator-id-19\" class=\"sk-toggleable__label sk-toggleable__label-arrow\">Numeric</label><div class=\"sk-toggleable__content\"><pre>Index([&#x27;Age&#x27;, &#x27;Income&#x27;, &#x27;WaistCirc&#x27;, &#x27;BMI&#x27;, &#x27;UrAlbCr&#x27;, &#x27;UricAcid&#x27;,\n",
       "       &#x27;BloodGlucose&#x27;, &#x27;HDL&#x27;, &#x27;Triglycerides&#x27;],\n",
       "      dtype=&#x27;object&#x27;)</pre></div></div></div><div class=\"sk-serial\"><div class=\"sk-item\"><div class=\"sk-serial\"><div class=\"sk-item\"><div class=\"sk-estimator sk-toggleable\"><input class=\"sk-toggleable__control sk-hidden--visually\" id=\"sk-estimator-id-20\" type=\"checkbox\" ><label for=\"sk-estimator-id-20\" class=\"sk-toggleable__label sk-toggleable__label-arrow\">SimpleImputer</label><div class=\"sk-toggleable__content\"><pre>SimpleImputer(strategy=&#x27;median&#x27;)</pre></div></div></div><div class=\"sk-item\"><div class=\"sk-estimator sk-toggleable\"><input class=\"sk-toggleable__control sk-hidden--visually\" id=\"sk-estimator-id-21\" type=\"checkbox\" ><label for=\"sk-estimator-id-21\" class=\"sk-toggleable__label sk-toggleable__label-arrow\">StandardScaler</label><div class=\"sk-toggleable__content\"><pre>StandardScaler()</pre></div></div></div></div></div></div></div></div></div></div><div class=\"sk-item\"><div class=\"sk-estimator sk-toggleable\"><input class=\"sk-toggleable__control sk-hidden--visually\" id=\"sk-estimator-id-22\" type=\"checkbox\" ><label for=\"sk-estimator-id-22\" class=\"sk-toggleable__label sk-toggleable__label-arrow\">RandomForestClassifier</label><div class=\"sk-toggleable__content\"><pre>RandomForestClassifier(random_state=42)</pre></div></div></div></div></div></div></div>"
      ],
      "text/plain": [
       "Pipeline(steps=[('columntransformer',\n",
       "                 ColumnTransformer(transformers=[('Categorical',\n",
       "                                                  Pipeline(steps=[('simpleimputer',\n",
       "                                                                   SimpleImputer(fill_value='missing',\n",
       "                                                                                 strategy='constant')),\n",
       "                                                                  ('onehotencoder',\n",
       "                                                                   OneHotEncoder(handle_unknown='ignore',\n",
       "                                                                                 sparse_output=False))]),\n",
       "                                                  Index(['Sex', 'Marital', 'Race'], dtype='object')),\n",
       "                                                 ('Ordinal',\n",
       "                                                  Pipeline(steps=[('ordinalencoder',\n",
       "                                                                   Ordi...\n",
       "                                                  ['Albuminuria']),\n",
       "                                                 ('Numeric',\n",
       "                                                  Pipeline(steps=[('simpleimputer',\n",
       "                                                                   SimpleImputer(strategy='median')),\n",
       "                                                                  ('standardscaler',\n",
       "                                                                   StandardScaler())]),\n",
       "                                                  Index(['Age', 'Income', 'WaistCirc', 'BMI', 'UrAlbCr', 'UricAcid',\n",
       "       'BloodGlucose', 'HDL', 'Triglycerides'],\n",
       "      dtype='object'))],\n",
       "                                   verbose_feature_names_out=False)),\n",
       "                ('randomforestclassifier',\n",
       "                 RandomForestClassifier(random_state=42))])"
      ]
     },
     "execution_count": 21,
     "metadata": {},
     "output_type": "execute_result"
    }
   ],
   "source": [
    "#model\n",
    "rfc = RandomForestClassifier(random_state=42)\n",
    "#model pipeline\n",
    "model = make_pipeline(preprocessor, rfc)\n",
    "model"
   ]
  },
  {
   "cell_type": "code",
   "execution_count": 22,
   "id": "0289f43c-dccf-4479-bdfd-6d982677b5aa",
   "metadata": {},
   "outputs": [
    {
     "data": {
      "text/html": [
       "<style>#sk-container-id-3 {color: black;background-color: white;}#sk-container-id-3 pre{padding: 0;}#sk-container-id-3 div.sk-toggleable {background-color: white;}#sk-container-id-3 label.sk-toggleable__label {cursor: pointer;display: block;width: 100%;margin-bottom: 0;padding: 0.3em;box-sizing: border-box;text-align: center;}#sk-container-id-3 label.sk-toggleable__label-arrow:before {content: \"▸\";float: left;margin-right: 0.25em;color: #696969;}#sk-container-id-3 label.sk-toggleable__label-arrow:hover:before {color: black;}#sk-container-id-3 div.sk-estimator:hover label.sk-toggleable__label-arrow:before {color: black;}#sk-container-id-3 div.sk-toggleable__content {max-height: 0;max-width: 0;overflow: hidden;text-align: left;background-color: #f0f8ff;}#sk-container-id-3 div.sk-toggleable__content pre {margin: 0.2em;color: black;border-radius: 0.25em;background-color: #f0f8ff;}#sk-container-id-3 input.sk-toggleable__control:checked~div.sk-toggleable__content {max-height: 200px;max-width: 100%;overflow: auto;}#sk-container-id-3 input.sk-toggleable__control:checked~label.sk-toggleable__label-arrow:before {content: \"▾\";}#sk-container-id-3 div.sk-estimator input.sk-toggleable__control:checked~label.sk-toggleable__label {background-color: #d4ebff;}#sk-container-id-3 div.sk-label input.sk-toggleable__control:checked~label.sk-toggleable__label {background-color: #d4ebff;}#sk-container-id-3 input.sk-hidden--visually {border: 0;clip: rect(1px 1px 1px 1px);clip: rect(1px, 1px, 1px, 1px);height: 1px;margin: -1px;overflow: hidden;padding: 0;position: absolute;width: 1px;}#sk-container-id-3 div.sk-estimator {font-family: monospace;background-color: #f0f8ff;border: 1px dotted black;border-radius: 0.25em;box-sizing: border-box;margin-bottom: 0.5em;}#sk-container-id-3 div.sk-estimator:hover {background-color: #d4ebff;}#sk-container-id-3 div.sk-parallel-item::after {content: \"\";width: 100%;border-bottom: 1px solid gray;flex-grow: 1;}#sk-container-id-3 div.sk-label:hover label.sk-toggleable__label {background-color: #d4ebff;}#sk-container-id-3 div.sk-serial::before {content: \"\";position: absolute;border-left: 1px solid gray;box-sizing: border-box;top: 0;bottom: 0;left: 50%;z-index: 0;}#sk-container-id-3 div.sk-serial {display: flex;flex-direction: column;align-items: center;background-color: white;padding-right: 0.2em;padding-left: 0.2em;position: relative;}#sk-container-id-3 div.sk-item {position: relative;z-index: 1;}#sk-container-id-3 div.sk-parallel {display: flex;align-items: stretch;justify-content: center;background-color: white;position: relative;}#sk-container-id-3 div.sk-item::before, #sk-container-id-3 div.sk-parallel-item::before {content: \"\";position: absolute;border-left: 1px solid gray;box-sizing: border-box;top: 0;bottom: 0;left: 50%;z-index: -1;}#sk-container-id-3 div.sk-parallel-item {display: flex;flex-direction: column;z-index: 1;position: relative;background-color: white;}#sk-container-id-3 div.sk-parallel-item:first-child::after {align-self: flex-end;width: 50%;}#sk-container-id-3 div.sk-parallel-item:last-child::after {align-self: flex-start;width: 50%;}#sk-container-id-3 div.sk-parallel-item:only-child::after {width: 0;}#sk-container-id-3 div.sk-dashed-wrapped {border: 1px dashed gray;margin: 0 0.4em 0.5em 0.4em;box-sizing: border-box;padding-bottom: 0.4em;background-color: white;}#sk-container-id-3 div.sk-label label {font-family: monospace;font-weight: bold;display: inline-block;line-height: 1.2em;}#sk-container-id-3 div.sk-label-container {text-align: center;}#sk-container-id-3 div.sk-container {/* jupyter's `normalize.less` sets `[hidden] { display: none; }` but bootstrap.min.css set `[hidden] { display: none !important; }` so we also need the `!important` here to be able to override the default hidden behavior on the sphinx rendered scikit-learn.org. See: https://github.com/scikit-learn/scikit-learn/issues/21755 */display: inline-block !important;position: relative;}#sk-container-id-3 div.sk-text-repr-fallback {display: none;}</style><div id=\"sk-container-id-3\" class=\"sk-top-container\"><div class=\"sk-text-repr-fallback\"><pre>Pipeline(steps=[(&#x27;columntransformer&#x27;,\n",
       "                 ColumnTransformer(transformers=[(&#x27;Categorical&#x27;,\n",
       "                                                  Pipeline(steps=[(&#x27;simpleimputer&#x27;,\n",
       "                                                                   SimpleImputer(fill_value=&#x27;missing&#x27;,\n",
       "                                                                                 strategy=&#x27;constant&#x27;)),\n",
       "                                                                  (&#x27;onehotencoder&#x27;,\n",
       "                                                                   OneHotEncoder(handle_unknown=&#x27;ignore&#x27;,\n",
       "                                                                                 sparse_output=False))]),\n",
       "                                                  Index([&#x27;Sex&#x27;, &#x27;Marital&#x27;, &#x27;Race&#x27;], dtype=&#x27;object&#x27;)),\n",
       "                                                 (&#x27;Ordinal&#x27;,\n",
       "                                                  Pipeline(steps=[(&#x27;ordinalencoder&#x27;,\n",
       "                                                                   Ordi...\n",
       "                                                  [&#x27;Albuminuria&#x27;]),\n",
       "                                                 (&#x27;Numeric&#x27;,\n",
       "                                                  Pipeline(steps=[(&#x27;simpleimputer&#x27;,\n",
       "                                                                   SimpleImputer(strategy=&#x27;median&#x27;)),\n",
       "                                                                  (&#x27;standardscaler&#x27;,\n",
       "                                                                   StandardScaler())]),\n",
       "                                                  Index([&#x27;Age&#x27;, &#x27;Income&#x27;, &#x27;WaistCirc&#x27;, &#x27;BMI&#x27;, &#x27;UrAlbCr&#x27;, &#x27;UricAcid&#x27;,\n",
       "       &#x27;BloodGlucose&#x27;, &#x27;HDL&#x27;, &#x27;Triglycerides&#x27;],\n",
       "      dtype=&#x27;object&#x27;))],\n",
       "                                   verbose_feature_names_out=False)),\n",
       "                (&#x27;randomforestclassifier&#x27;,\n",
       "                 RandomForestClassifier(random_state=42))])</pre><b>In a Jupyter environment, please rerun this cell to show the HTML representation or trust the notebook. <br />On GitHub, the HTML representation is unable to render, please try loading this page with nbviewer.org.</b></div><div class=\"sk-container\" hidden><div class=\"sk-item sk-dashed-wrapped\"><div class=\"sk-label-container\"><div class=\"sk-label sk-toggleable\"><input class=\"sk-toggleable__control sk-hidden--visually\" id=\"sk-estimator-id-23\" type=\"checkbox\" ><label for=\"sk-estimator-id-23\" class=\"sk-toggleable__label sk-toggleable__label-arrow\">Pipeline</label><div class=\"sk-toggleable__content\"><pre>Pipeline(steps=[(&#x27;columntransformer&#x27;,\n",
       "                 ColumnTransformer(transformers=[(&#x27;Categorical&#x27;,\n",
       "                                                  Pipeline(steps=[(&#x27;simpleimputer&#x27;,\n",
       "                                                                   SimpleImputer(fill_value=&#x27;missing&#x27;,\n",
       "                                                                                 strategy=&#x27;constant&#x27;)),\n",
       "                                                                  (&#x27;onehotencoder&#x27;,\n",
       "                                                                   OneHotEncoder(handle_unknown=&#x27;ignore&#x27;,\n",
       "                                                                                 sparse_output=False))]),\n",
       "                                                  Index([&#x27;Sex&#x27;, &#x27;Marital&#x27;, &#x27;Race&#x27;], dtype=&#x27;object&#x27;)),\n",
       "                                                 (&#x27;Ordinal&#x27;,\n",
       "                                                  Pipeline(steps=[(&#x27;ordinalencoder&#x27;,\n",
       "                                                                   Ordi...\n",
       "                                                  [&#x27;Albuminuria&#x27;]),\n",
       "                                                 (&#x27;Numeric&#x27;,\n",
       "                                                  Pipeline(steps=[(&#x27;simpleimputer&#x27;,\n",
       "                                                                   SimpleImputer(strategy=&#x27;median&#x27;)),\n",
       "                                                                  (&#x27;standardscaler&#x27;,\n",
       "                                                                   StandardScaler())]),\n",
       "                                                  Index([&#x27;Age&#x27;, &#x27;Income&#x27;, &#x27;WaistCirc&#x27;, &#x27;BMI&#x27;, &#x27;UrAlbCr&#x27;, &#x27;UricAcid&#x27;,\n",
       "       &#x27;BloodGlucose&#x27;, &#x27;HDL&#x27;, &#x27;Triglycerides&#x27;],\n",
       "      dtype=&#x27;object&#x27;))],\n",
       "                                   verbose_feature_names_out=False)),\n",
       "                (&#x27;randomforestclassifier&#x27;,\n",
       "                 RandomForestClassifier(random_state=42))])</pre></div></div></div><div class=\"sk-serial\"><div class=\"sk-item sk-dashed-wrapped\"><div class=\"sk-label-container\"><div class=\"sk-label sk-toggleable\"><input class=\"sk-toggleable__control sk-hidden--visually\" id=\"sk-estimator-id-24\" type=\"checkbox\" ><label for=\"sk-estimator-id-24\" class=\"sk-toggleable__label sk-toggleable__label-arrow\">columntransformer: ColumnTransformer</label><div class=\"sk-toggleable__content\"><pre>ColumnTransformer(transformers=[(&#x27;Categorical&#x27;,\n",
       "                                 Pipeline(steps=[(&#x27;simpleimputer&#x27;,\n",
       "                                                  SimpleImputer(fill_value=&#x27;missing&#x27;,\n",
       "                                                                strategy=&#x27;constant&#x27;)),\n",
       "                                                 (&#x27;onehotencoder&#x27;,\n",
       "                                                  OneHotEncoder(handle_unknown=&#x27;ignore&#x27;,\n",
       "                                                                sparse_output=False))]),\n",
       "                                 Index([&#x27;Sex&#x27;, &#x27;Marital&#x27;, &#x27;Race&#x27;], dtype=&#x27;object&#x27;)),\n",
       "                                (&#x27;Ordinal&#x27;,\n",
       "                                 Pipeline(steps=[(&#x27;ordinalencoder&#x27;,\n",
       "                                                  OrdinalEncoder()),\n",
       "                                                 (&#x27;standardscaler&#x27;,\n",
       "                                                  StandardScaler())]),\n",
       "                                 [&#x27;Albuminuria&#x27;]),\n",
       "                                (&#x27;Numeric&#x27;,\n",
       "                                 Pipeline(steps=[(&#x27;simpleimputer&#x27;,\n",
       "                                                  SimpleImputer(strategy=&#x27;median&#x27;)),\n",
       "                                                 (&#x27;standardscaler&#x27;,\n",
       "                                                  StandardScaler())]),\n",
       "                                 Index([&#x27;Age&#x27;, &#x27;Income&#x27;, &#x27;WaistCirc&#x27;, &#x27;BMI&#x27;, &#x27;UrAlbCr&#x27;, &#x27;UricAcid&#x27;,\n",
       "       &#x27;BloodGlucose&#x27;, &#x27;HDL&#x27;, &#x27;Triglycerides&#x27;],\n",
       "      dtype=&#x27;object&#x27;))],\n",
       "                  verbose_feature_names_out=False)</pre></div></div></div><div class=\"sk-parallel\"><div class=\"sk-parallel-item\"><div class=\"sk-item\"><div class=\"sk-label-container\"><div class=\"sk-label sk-toggleable\"><input class=\"sk-toggleable__control sk-hidden--visually\" id=\"sk-estimator-id-25\" type=\"checkbox\" ><label for=\"sk-estimator-id-25\" class=\"sk-toggleable__label sk-toggleable__label-arrow\">Categorical</label><div class=\"sk-toggleable__content\"><pre>Index([&#x27;Sex&#x27;, &#x27;Marital&#x27;, &#x27;Race&#x27;], dtype=&#x27;object&#x27;)</pre></div></div></div><div class=\"sk-serial\"><div class=\"sk-item\"><div class=\"sk-serial\"><div class=\"sk-item\"><div class=\"sk-estimator sk-toggleable\"><input class=\"sk-toggleable__control sk-hidden--visually\" id=\"sk-estimator-id-26\" type=\"checkbox\" ><label for=\"sk-estimator-id-26\" class=\"sk-toggleable__label sk-toggleable__label-arrow\">SimpleImputer</label><div class=\"sk-toggleable__content\"><pre>SimpleImputer(fill_value=&#x27;missing&#x27;, strategy=&#x27;constant&#x27;)</pre></div></div></div><div class=\"sk-item\"><div class=\"sk-estimator sk-toggleable\"><input class=\"sk-toggleable__control sk-hidden--visually\" id=\"sk-estimator-id-27\" type=\"checkbox\" ><label for=\"sk-estimator-id-27\" class=\"sk-toggleable__label sk-toggleable__label-arrow\">OneHotEncoder</label><div class=\"sk-toggleable__content\"><pre>OneHotEncoder(handle_unknown=&#x27;ignore&#x27;, sparse_output=False)</pre></div></div></div></div></div></div></div></div><div class=\"sk-parallel-item\"><div class=\"sk-item\"><div class=\"sk-label-container\"><div class=\"sk-label sk-toggleable\"><input class=\"sk-toggleable__control sk-hidden--visually\" id=\"sk-estimator-id-28\" type=\"checkbox\" ><label for=\"sk-estimator-id-28\" class=\"sk-toggleable__label sk-toggleable__label-arrow\">Ordinal</label><div class=\"sk-toggleable__content\"><pre>[&#x27;Albuminuria&#x27;]</pre></div></div></div><div class=\"sk-serial\"><div class=\"sk-item\"><div class=\"sk-serial\"><div class=\"sk-item\"><div class=\"sk-estimator sk-toggleable\"><input class=\"sk-toggleable__control sk-hidden--visually\" id=\"sk-estimator-id-29\" type=\"checkbox\" ><label for=\"sk-estimator-id-29\" class=\"sk-toggleable__label sk-toggleable__label-arrow\">OrdinalEncoder</label><div class=\"sk-toggleable__content\"><pre>OrdinalEncoder()</pre></div></div></div><div class=\"sk-item\"><div class=\"sk-estimator sk-toggleable\"><input class=\"sk-toggleable__control sk-hidden--visually\" id=\"sk-estimator-id-30\" type=\"checkbox\" ><label for=\"sk-estimator-id-30\" class=\"sk-toggleable__label sk-toggleable__label-arrow\">StandardScaler</label><div class=\"sk-toggleable__content\"><pre>StandardScaler()</pre></div></div></div></div></div></div></div></div><div class=\"sk-parallel-item\"><div class=\"sk-item\"><div class=\"sk-label-container\"><div class=\"sk-label sk-toggleable\"><input class=\"sk-toggleable__control sk-hidden--visually\" id=\"sk-estimator-id-31\" type=\"checkbox\" ><label for=\"sk-estimator-id-31\" class=\"sk-toggleable__label sk-toggleable__label-arrow\">Numeric</label><div class=\"sk-toggleable__content\"><pre>Index([&#x27;Age&#x27;, &#x27;Income&#x27;, &#x27;WaistCirc&#x27;, &#x27;BMI&#x27;, &#x27;UrAlbCr&#x27;, &#x27;UricAcid&#x27;,\n",
       "       &#x27;BloodGlucose&#x27;, &#x27;HDL&#x27;, &#x27;Triglycerides&#x27;],\n",
       "      dtype=&#x27;object&#x27;)</pre></div></div></div><div class=\"sk-serial\"><div class=\"sk-item\"><div class=\"sk-serial\"><div class=\"sk-item\"><div class=\"sk-estimator sk-toggleable\"><input class=\"sk-toggleable__control sk-hidden--visually\" id=\"sk-estimator-id-32\" type=\"checkbox\" ><label for=\"sk-estimator-id-32\" class=\"sk-toggleable__label sk-toggleable__label-arrow\">SimpleImputer</label><div class=\"sk-toggleable__content\"><pre>SimpleImputer(strategy=&#x27;median&#x27;)</pre></div></div></div><div class=\"sk-item\"><div class=\"sk-estimator sk-toggleable\"><input class=\"sk-toggleable__control sk-hidden--visually\" id=\"sk-estimator-id-33\" type=\"checkbox\" ><label for=\"sk-estimator-id-33\" class=\"sk-toggleable__label sk-toggleable__label-arrow\">StandardScaler</label><div class=\"sk-toggleable__content\"><pre>StandardScaler()</pre></div></div></div></div></div></div></div></div></div></div><div class=\"sk-item\"><div class=\"sk-estimator sk-toggleable\"><input class=\"sk-toggleable__control sk-hidden--visually\" id=\"sk-estimator-id-34\" type=\"checkbox\" ><label for=\"sk-estimator-id-34\" class=\"sk-toggleable__label sk-toggleable__label-arrow\">RandomForestClassifier</label><div class=\"sk-toggleable__content\"><pre>RandomForestClassifier(random_state=42)</pre></div></div></div></div></div></div></div>"
      ],
      "text/plain": [
       "Pipeline(steps=[('columntransformer',\n",
       "                 ColumnTransformer(transformers=[('Categorical',\n",
       "                                                  Pipeline(steps=[('simpleimputer',\n",
       "                                                                   SimpleImputer(fill_value='missing',\n",
       "                                                                                 strategy='constant')),\n",
       "                                                                  ('onehotencoder',\n",
       "                                                                   OneHotEncoder(handle_unknown='ignore',\n",
       "                                                                                 sparse_output=False))]),\n",
       "                                                  Index(['Sex', 'Marital', 'Race'], dtype='object')),\n",
       "                                                 ('Ordinal',\n",
       "                                                  Pipeline(steps=[('ordinalencoder',\n",
       "                                                                   Ordi...\n",
       "                                                  ['Albuminuria']),\n",
       "                                                 ('Numeric',\n",
       "                                                  Pipeline(steps=[('simpleimputer',\n",
       "                                                                   SimpleImputer(strategy='median')),\n",
       "                                                                  ('standardscaler',\n",
       "                                                                   StandardScaler())]),\n",
       "                                                  Index(['Age', 'Income', 'WaistCirc', 'BMI', 'UrAlbCr', 'UricAcid',\n",
       "       'BloodGlucose', 'HDL', 'Triglycerides'],\n",
       "      dtype='object'))],\n",
       "                                   verbose_feature_names_out=False)),\n",
       "                ('randomforestclassifier',\n",
       "                 RandomForestClassifier(random_state=42))])"
      ]
     },
     "execution_count": 22,
     "metadata": {},
     "output_type": "execute_result"
    }
   ],
   "source": [
    "#fitting model\n",
    "model.fit(X_train, y_train)"
   ]
  },
  {
   "cell_type": "markdown",
   "id": "8fdbad5d-0283-4fc4-95c2-2d2ca86eb504",
   "metadata": {},
   "source": [
    "## Custom Evaluation function"
   ]
  },
  {
   "cell_type": "code",
   "execution_count": 23,
   "id": "155d1b2e-f5db-4d75-b339-91726bba7396",
   "metadata": {},
   "outputs": [],
   "source": [
    "from sklearn.metrics import classification_report, ConfusionMatrixDisplay\n",
    "def classification_metrics(y_true, y_pred, label='',\n",
    "                           output_dict=False, figsize=(8,4),\n",
    "                           normalize='true', cmap='Blues',\n",
    "                           colorbar=False):\n",
    "  # Get the classification report\n",
    "  report = classification_report(y_true, y_pred)\n",
    "  ## Print header and report\n",
    "  header = \"-\"*70\n",
    "  print(header, f\" Classification Metrics: {label}\", header, sep='\\n')\n",
    "  print(report)\n",
    "  ## CONFUSION MATRICES SUBPLOTS\n",
    "  fig, axes = plt.subplots(ncols=2, figsize=figsize)\n",
    "  # create a confusion matrix  of raw counts\n",
    "  ConfusionMatrixDisplay.from_predictions(y_true, y_pred,\n",
    "                normalize=None, cmap='gist_gray', colorbar=colorbar,\n",
    "                ax = axes[0],);\n",
    "  axes[0].set_title(\"Raw Counts\")\n",
    "  # create a confusion matrix with the test data\n",
    "  ConfusionMatrixDisplay.from_predictions(y_true, y_pred,\n",
    "                normalize=normalize, cmap=cmap, colorbar=colorbar,\n",
    "                ax = axes[1]);\n",
    "  axes[1].set_title(\"Normalized Confusion Matrix\")\n",
    "  # Adjust layout and show figure\n",
    "  fig.tight_layout()\n",
    "  plt.show()\n",
    "  # Return dictionary of classification_report\n",
    "  if output_dict==True:\n",
    "    report_dict = classification_report(y_true, y_pred, output_dict=True)\n",
    "    return report_dict\n",
    "\n",
    "def evaluate_classification(model, X_train, y_train, X_test, y_test,\n",
    "                         figsize=(6,4), normalize='true', output_dict = False,\n",
    "                            cmap_train='Blues', cmap_test=\"Reds\",colorbar=False):\n",
    "  # Get predictions for training data\n",
    "  y_train_pred = model.predict(X_train)\n",
    "  # Call the helper function to obtain regression metrics for training data\n",
    "  results_train = classification_metrics(y_train, y_train_pred, #verbose = verbose,\n",
    "                                     output_dict=True, figsize=figsize,\n",
    "                                         colorbar=colorbar, cmap=cmap_train,\n",
    "                                     label='Training Data')\n",
    "  print()\n",
    "  # Get predictions for test data\n",
    "  y_test_pred = model.predict(X_test)\n",
    "  # Call the helper function to obtain regression metrics for test data\n",
    "  results_test = classification_metrics(y_test, y_test_pred, #verbose = verbose,\n",
    "                                  output_dict=True,figsize=figsize,\n",
    "                                         colorbar=colorbar, cmap=cmap_test,\n",
    "                                    label='Test Data' )\n",
    "  if output_dict == True:\n",
    "    # Store results in a dataframe if ouput_frame is True\n",
    "    results_dict = {'train':results_train,\n",
    "                    'test': results_test}\n",
    "    return results_dict"
   ]
  },
  {
   "cell_type": "code",
   "execution_count": 24,
   "id": "a0b6210b-2726-4c0b-a662-946949153b49",
   "metadata": {},
   "outputs": [
    {
     "name": "stdout",
     "output_type": "stream",
     "text": [
      "----------------------------------------------------------------------\n",
      " Classification Metrics: Training Data\n",
      "----------------------------------------------------------------------\n",
      "              precision    recall  f1-score   support\n",
      "\n",
      "           0       1.00      1.00      1.00      1182\n",
      "           1       1.00      1.00      1.00       618\n",
      "\n",
      "    accuracy                           1.00      1800\n",
      "   macro avg       1.00      1.00      1.00      1800\n",
      "weighted avg       1.00      1.00      1.00      1800\n",
      "\n"
     ]
    },
    {
     "data": {
      "image/png": "[encoded data removed]",
      "text/plain": [
       "<Figure size 600x400 with 2 Axes>"
      ]
     },
     "metadata": {},
     "output_type": "display_data"
    },
    {
     "name": "stdout",
     "output_type": "stream",
     "text": [
      "\n",
      "----------------------------------------------------------------------\n",
      " Classification Metrics: Test Data\n",
      "----------------------------------------------------------------------\n",
      "              precision    recall  f1-score   support\n",
      "\n",
      "           0       0.89      0.94      0.91       397\n",
      "           1       0.87      0.77      0.82       204\n",
      "\n",
      "    accuracy                           0.88       601\n",
      "   macro avg       0.88      0.86      0.87       601\n",
      "weighted avg       0.88      0.88      0.88       601\n",
      "\n"
     ]
    },
    {
     "data": {
      "image/png": "[encoded data removed]",
      "text/plain": [
       "<Figure size 600x400 with 2 Axes>"
      ]
     },
     "metadata": {},
     "output_type": "display_data"
    }
   ],
   "source": [
    "#evaluating model\n",
    "evaluate_classification(model, X_train, y_train, X_test, y_test)"
   ]
  },
  {
   "cell_type": "markdown",
   "id": "0c8dcbd3-4edf-45b8-82d8-016d93b49e2f",
   "metadata": {},
   "source": [
    "# Permutation importance(Extract and visualize the top 10 features )"
   ]
  },
  {
   "cell_type": "code",
   "execution_count": 25,
   "id": "3aadff00-1ab8-4cb0-b2e5-d6ba5592d79f",
   "metadata": {},
   "outputs": [
    {
     "data": {
      "image/png": "[encoded data removed]",
      "text/plain": [
       "<Figure size 1000x600 with 1 Axes>"
      ]
     },
     "metadata": {},
     "output_type": "display_data"
    }
   ],
   "source": [
    "from sklearn.inspection import permutation_importance\n",
    "import matplotlib.pyplot as plt\n",
    "# Calculate permutation importance\n",
    "perm_importance = permutation_importance(model, X_test, y_test, n_repeats=10, random_state=42)\n",
    "\n",
    "# Extract feature importances and names\n",
    "feature_importance = perm_importance.importances_mean\n",
    "feature_names = X.columns\n",
    "\n",
    "# Sort feature importances and names\n",
    "sorted_indices = feature_importance.argsort()[::-1]\n",
    "sorted_feature_importance = feature_importance[sorted_indices]\n",
    "sorted_feature_names = feature_names[sorted_indices]\n",
    "\n",
    "# Plot the top 10 features\n",
    "top_n = 10\n",
    "plt.figure(figsize=(10, 6))\n",
    "plt.barh(range(top_n), sorted_feature_importance[:top_n], align='center')\n",
    "plt.yticks(range(top_n), sorted_feature_names[:top_n])\n",
    "plt.xlabel('Permutation Importance')\n",
    "plt.title('Top 10 Features by Permutation Importance')\n",
    "plt.gca().invert_yaxis()  # Invert y-axis to have the most important feature on top\n",
    "plt.show()"
   ]
  },
  {
   "cell_type": "markdown",
   "id": "38606172-1fd0-4c71-86c7-7b9ec0503763",
   "metadata": {},
   "source": [
    "## Observations\n",
    "- The most important feature is BloodGluscoe. given that metabolic syndrome is a cluster of conditions that occur together, it would be sensible that bloodglucose would form part of the most importanat feature. this along with triglycerides and waist Circumfrance are important features in determining this condition. \n",
    "\n",
    "## Explanatory Visualizations for the most important features."
   ]
  },
  {
   "cell_type": "code",
   "execution_count": 26,
   "id": "655304ed-b5e9-4301-b5d8-6f6d54a30414",
   "metadata": {},
   "outputs": [
    {
     "data": {
      "image/png": "[encoded data removed]",
      "text/plain": [
       "<Figure size 640x480 with 1 Axes>"
      ]
     },
     "metadata": {},
     "output_type": "display_data"
    }
   ],
   "source": [
    "#visualising relationship between bloodglucose and Race\n",
    "fig, ax = plt.subplots()\n",
    "sns.barplot(data=df, y='BloodGlucose', x='Race', hue='MetabolicSyndrome')\n",
    "ax.set_title('Relationship Between Blood Glucose and Race hued according to Metabolic syndrome');"
   ]
  },
  {
   "cell_type": "code",
   "execution_count": 27,
   "id": "497d1ef1-5d2c-4e17-a042-cb3980366418",
   "metadata": {},
   "outputs": [
    {
     "data": {
      "image/png": "[encoded data removed]",
      "text/plain": [
       "<Figure size 640x480 with 1 Axes>"
      ]
     },
     "metadata": {},
     "output_type": "display_data"
    }
   ],
   "source": [
    "#visualising relationship between bloodglucose and target\n",
    "fig, ax = plt.subplots()\n",
    "sns.violinplot(data=df, y='BloodGlucose', x='Sex', hue='MetabolicSyndrome')\n",
    "ax.set_title('Relationship Between Blood Glucose and Sex hued according to Metabolic syndrome');"
   ]
  },
  {
   "cell_type": "markdown",
   "id": "50a22d9a-98a1-4444-b8cf-a6c408efc845",
   "metadata": {},
   "source": [
    "- The races that seem to be at the most risk of metabolic syndrome are Black and Mexican Americans.\r\n",
    "- both sexes show a bigger violin for members with Metabolic Syndrome than those without. the plot also shows that those with the syndrome have higher glucose levels that those without\n",
    "\n",
    "# PART TWO."
   ]
  },
  {
   "cell_type": "code",
   "execution_count": 28,
   "id": "c45c34db-2711-4f2c-aabe-5e9ceebcad2b",
   "metadata": {},
   "outputs": [
    {
     "data": {
      "text/html": [
       "<style>#sk-container-id-4 {color: black;background-color: white;}#sk-container-id-4 pre{padding: 0;}#sk-container-id-4 div.sk-toggleable {background-color: white;}#sk-container-id-4 label.sk-toggleable__label {cursor: pointer;display: block;width: 100%;margin-bottom: 0;padding: 0.3em;box-sizing: border-box;text-align: center;}#sk-container-id-4 label.sk-toggleable__label-arrow:before {content: \"▸\";float: left;margin-right: 0.25em;color: #696969;}#sk-container-id-4 label.sk-toggleable__label-arrow:hover:before {color: black;}#sk-container-id-4 div.sk-estimator:hover label.sk-toggleable__label-arrow:before {color: black;}#sk-container-id-4 div.sk-toggleable__content {max-height: 0;max-width: 0;overflow: hidden;text-align: left;background-color: #f0f8ff;}#sk-container-id-4 div.sk-toggleable__content pre {margin: 0.2em;color: black;border-radius: 0.25em;background-color: #f0f8ff;}#sk-container-id-4 input.sk-toggleable__control:checked~div.sk-toggleable__content {max-height: 200px;max-width: 100%;overflow: auto;}#sk-container-id-4 input.sk-toggleable__control:checked~label.sk-toggleable__label-arrow:before {content: \"▾\";}#sk-container-id-4 div.sk-estimator input.sk-toggleable__control:checked~label.sk-toggleable__label {background-color: #d4ebff;}#sk-container-id-4 div.sk-label input.sk-toggleable__control:checked~label.sk-toggleable__label {background-color: #d4ebff;}#sk-container-id-4 input.sk-hidden--visually {border: 0;clip: rect(1px 1px 1px 1px);clip: rect(1px, 1px, 1px, 1px);height: 1px;margin: -1px;overflow: hidden;padding: 0;position: absolute;width: 1px;}#sk-container-id-4 div.sk-estimator {font-family: monospace;background-color: #f0f8ff;border: 1px dotted black;border-radius: 0.25em;box-sizing: border-box;margin-bottom: 0.5em;}#sk-container-id-4 div.sk-estimator:hover {background-color: #d4ebff;}#sk-container-id-4 div.sk-parallel-item::after {content: \"\";width: 100%;border-bottom: 1px solid gray;flex-grow: 1;}#sk-container-id-4 div.sk-label:hover label.sk-toggleable__label {background-color: #d4ebff;}#sk-container-id-4 div.sk-serial::before {content: \"\";position: absolute;border-left: 1px solid gray;box-sizing: border-box;top: 0;bottom: 0;left: 50%;z-index: 0;}#sk-container-id-4 div.sk-serial {display: flex;flex-direction: column;align-items: center;background-color: white;padding-right: 0.2em;padding-left: 0.2em;position: relative;}#sk-container-id-4 div.sk-item {position: relative;z-index: 1;}#sk-container-id-4 div.sk-parallel {display: flex;align-items: stretch;justify-content: center;background-color: white;position: relative;}#sk-container-id-4 div.sk-item::before, #sk-container-id-4 div.sk-parallel-item::before {content: \"\";position: absolute;border-left: 1px solid gray;box-sizing: border-box;top: 0;bottom: 0;left: 50%;z-index: -1;}#sk-container-id-4 div.sk-parallel-item {display: flex;flex-direction: column;z-index: 1;position: relative;background-color: white;}#sk-container-id-4 div.sk-parallel-item:first-child::after {align-self: flex-end;width: 50%;}#sk-container-id-4 div.sk-parallel-item:last-child::after {align-self: flex-start;width: 50%;}#sk-container-id-4 div.sk-parallel-item:only-child::after {width: 0;}#sk-container-id-4 div.sk-dashed-wrapped {border: 1px dashed gray;margin: 0 0.4em 0.5em 0.4em;box-sizing: border-box;padding-bottom: 0.4em;background-color: white;}#sk-container-id-4 div.sk-label label {font-family: monospace;font-weight: bold;display: inline-block;line-height: 1.2em;}#sk-container-id-4 div.sk-label-container {text-align: center;}#sk-container-id-4 div.sk-container {/* jupyter's `normalize.less` sets `[hidden] { display: none; }` but bootstrap.min.css set `[hidden] { display: none !important; }` so we also need the `!important` here to be able to override the default hidden behavior on the sphinx rendered scikit-learn.org. See: https://github.com/scikit-learn/scikit-learn/issues/21755 */display: inline-block !important;position: relative;}#sk-container-id-4 div.sk-text-repr-fallback {display: none;}</style><div id=\"sk-container-id-4\" class=\"sk-top-container\"><div class=\"sk-text-repr-fallback\"><pre>PCA(n_components=3, random_state=42)</pre><b>In a Jupyter environment, please rerun this cell to show the HTML representation or trust the notebook. <br />On GitHub, the HTML representation is unable to render, please try loading this page with nbviewer.org.</b></div><div class=\"sk-container\" hidden><div class=\"sk-item\"><div class=\"sk-estimator sk-toggleable\"><input class=\"sk-toggleable__control sk-hidden--visually\" id=\"sk-estimator-id-35\" type=\"checkbox\" checked><label for=\"sk-estimator-id-35\" class=\"sk-toggleable__label sk-toggleable__label-arrow\">PCA</label><div class=\"sk-toggleable__content\"><pre>PCA(n_components=3, random_state=42)</pre></div></div></div></div></div>"
      ],
      "text/plain": [
       "PCA(n_components=3, random_state=42)"
      ]
     },
     "execution_count": 28,
     "metadata": {},
     "output_type": "execute_result"
    }
   ],
   "source": [
    "#applying pca to get 3 principal components for the data\n",
    "from sklearn.decomposition import PCA\n",
    "pca = PCA(n_components=3, random_state=42)\n",
    "X_train_tf = preprocessor.fit_transform(X_train)\n",
    "X_test_tf = preprocessor.transform(X_test)\n",
    "pca.fit(X_train_tf)"
   ]
  },
  {
   "cell_type": "code",
   "execution_count": 29,
   "id": "ec385731-d7e3-4a73-806e-ddcb6b0ec134",
   "metadata": {},
   "outputs": [
    {
     "data": {
      "text/html": [
       "<div>\n",
       "<style scoped>\n",
       "    .dataframe tbody tr th:only-of-type {\n",
       "        vertical-align: middle;\n",
       "    }\n",
       "\n",
       "    .dataframe tbody tr th {\n",
       "        vertical-align: top;\n",
       "    }\n",
       "\n",
       "    .dataframe thead th {\n",
       "        text-align: right;\n",
       "    }\n",
       "</style>\n",
       "<table border=\"1\" class=\"dataframe\">\n",
       "  <thead>\n",
       "    <tr style=\"text-align: right;\">\n",
       "      <th></th>\n",
       "      <th>pca0</th>\n",
       "      <th>pca1</th>\n",
       "      <th>pca2</th>\n",
       "    </tr>\n",
       "  </thead>\n",
       "  <tbody>\n",
       "    <tr>\n",
       "      <th>685</th>\n",
       "      <td>0.356337</td>\n",
       "      <td>-1.040123</td>\n",
       "      <td>1.366618</td>\n",
       "    </tr>\n",
       "    <tr>\n",
       "      <th>111</th>\n",
       "      <td>0.986577</td>\n",
       "      <td>-0.365298</td>\n",
       "      <td>-1.292826</td>\n",
       "    </tr>\n",
       "    <tr>\n",
       "      <th>1512</th>\n",
       "      <td>-0.197148</td>\n",
       "      <td>2.302556</td>\n",
       "      <td>-2.543591</td>\n",
       "    </tr>\n",
       "    <tr>\n",
       "      <th>1651</th>\n",
       "      <td>0.438149</td>\n",
       "      <td>-0.792265</td>\n",
       "      <td>0.482934</td>\n",
       "    </tr>\n",
       "    <tr>\n",
       "      <th>741</th>\n",
       "      <td>3.523487</td>\n",
       "      <td>1.385747</td>\n",
       "      <td>2.190392</td>\n",
       "    </tr>\n",
       "  </tbody>\n",
       "</table>\n",
       "</div>"
      ],
      "text/plain": [
       "          pca0      pca1      pca2\n",
       "685   0.356337 -1.040123  1.366618\n",
       "111   0.986577 -0.365298 -1.292826\n",
       "1512 -0.197148  2.302556 -2.543591\n",
       "1651  0.438149 -0.792265  0.482934\n",
       "741   3.523487  1.385747  2.190392"
      ]
     },
     "execution_count": 29,
     "metadata": {},
     "output_type": "execute_result"
    }
   ],
   "source": [
    "#getting x_train_pca\n",
    "X_train_pca = pca.transform(X_train_tf)\n",
    "X_test_pca = pca.transform(X_test_tf)\n",
    "X_test_pca.head()"
   ]
  },
  {
   "cell_type": "code",
   "execution_count": 30,
   "id": "5d811cdb-9b1f-40d9-8163-18cba3301923",
   "metadata": {},
   "outputs": [
    {
     "data": {
      "text/html": [
       "<div>\n",
       "<style scoped>\n",
       "    .dataframe tbody tr th:only-of-type {\n",
       "        vertical-align: middle;\n",
       "    }\n",
       "\n",
       "    .dataframe tbody tr th {\n",
       "        vertical-align: top;\n",
       "    }\n",
       "\n",
       "    .dataframe thead th {\n",
       "        text-align: right;\n",
       "    }\n",
       "</style>\n",
       "<table border=\"1\" class=\"dataframe\">\n",
       "  <thead>\n",
       "    <tr style=\"text-align: right;\">\n",
       "      <th></th>\n",
       "      <th>pca0</th>\n",
       "      <th>pca1</th>\n",
       "      <th>pca2</th>\n",
       "    </tr>\n",
       "  </thead>\n",
       "  <tbody>\n",
       "    <tr>\n",
       "      <th>263</th>\n",
       "      <td>1.319839</td>\n",
       "      <td>-1.157142</td>\n",
       "      <td>-1.251156</td>\n",
       "    </tr>\n",
       "    <tr>\n",
       "      <th>2073</th>\n",
       "      <td>-1.519720</td>\n",
       "      <td>0.336558</td>\n",
       "      <td>-0.195914</td>\n",
       "    </tr>\n",
       "    <tr>\n",
       "      <th>632</th>\n",
       "      <td>-1.904998</td>\n",
       "      <td>-0.145953</td>\n",
       "      <td>0.613600</td>\n",
       "    </tr>\n",
       "    <tr>\n",
       "      <th>1732</th>\n",
       "      <td>-0.817140</td>\n",
       "      <td>-0.618495</td>\n",
       "      <td>-0.676716</td>\n",
       "    </tr>\n",
       "    <tr>\n",
       "      <th>765</th>\n",
       "      <td>-0.724204</td>\n",
       "      <td>-0.278185</td>\n",
       "      <td>2.697994</td>\n",
       "    </tr>\n",
       "  </tbody>\n",
       "</table>\n",
       "</div>"
      ],
      "text/plain": [
       "          pca0      pca1      pca2\n",
       "263   1.319839 -1.157142 -1.251156\n",
       "2073 -1.519720  0.336558 -0.195914\n",
       "632  -1.904998 -0.145953  0.613600\n",
       "1732 -0.817140 -0.618495 -0.676716\n",
       "765  -0.724204 -0.278185  2.697994"
      ]
     },
     "execution_count": 30,
     "metadata": {},
     "output_type": "execute_result"
    }
   ],
   "source": [
    "X_train_pca.head()"
   ]
  },
  {
   "cell_type": "code",
   "execution_count": 31,
   "id": "d0c4b2a3-ab1f-44e6-bb85-f5d2751ea4c1",
   "metadata": {},
   "outputs": [
    {
     "name": "stdout",
     "output_type": "stream",
     "text": [
      "<class 'pandas.core.frame.DataFrame'>\n",
      "Int64Index: 2401 entries, 263 to 1934\n",
      "Data columns (total 3 columns):\n",
      " #   Column  Non-Null Count  Dtype  \n",
      "---  ------  --------------  -----  \n",
      " 0   pca0    2401 non-null   float64\n",
      " 1   pca1    2401 non-null   float64\n",
      " 2   pca2    2401 non-null   float64\n",
      "dtypes: float64(3)\n",
      "memory usage: 75.0 KB\n"
     ]
    },
    {
     "data": {
      "text/html": [
       "<div>\n",
       "<style scoped>\n",
       "    .dataframe tbody tr th:only-of-type {\n",
       "        vertical-align: middle;\n",
       "    }\n",
       "\n",
       "    .dataframe tbody tr th {\n",
       "        vertical-align: top;\n",
       "    }\n",
       "\n",
       "    .dataframe thead th {\n",
       "        text-align: right;\n",
       "    }\n",
       "</style>\n",
       "<table border=\"1\" class=\"dataframe\">\n",
       "  <thead>\n",
       "    <tr style=\"text-align: right;\">\n",
       "      <th></th>\n",
       "      <th>pca0</th>\n",
       "      <th>pca1</th>\n",
       "      <th>pca2</th>\n",
       "    </tr>\n",
       "  </thead>\n",
       "  <tbody>\n",
       "    <tr>\n",
       "      <th>263</th>\n",
       "      <td>1.319839</td>\n",
       "      <td>-1.157142</td>\n",
       "      <td>-1.251156</td>\n",
       "    </tr>\n",
       "    <tr>\n",
       "      <th>2073</th>\n",
       "      <td>-1.519720</td>\n",
       "      <td>0.336558</td>\n",
       "      <td>-0.195914</td>\n",
       "    </tr>\n",
       "    <tr>\n",
       "      <th>632</th>\n",
       "      <td>-1.904998</td>\n",
       "      <td>-0.145953</td>\n",
       "      <td>0.613600</td>\n",
       "    </tr>\n",
       "    <tr>\n",
       "      <th>1732</th>\n",
       "      <td>-0.817140</td>\n",
       "      <td>-0.618495</td>\n",
       "      <td>-0.676716</td>\n",
       "    </tr>\n",
       "    <tr>\n",
       "      <th>765</th>\n",
       "      <td>-0.724204</td>\n",
       "      <td>-0.278185</td>\n",
       "      <td>2.697994</td>\n",
       "    </tr>\n",
       "  </tbody>\n",
       "</table>\n",
       "</div>"
      ],
      "text/plain": [
       "          pca0      pca1      pca2\n",
       "263   1.319839 -1.157142 -1.251156\n",
       "2073 -1.519720  0.336558 -0.195914\n",
       "632  -1.904998 -0.145953  0.613600\n",
       "1732 -0.817140 -0.618495 -0.676716\n",
       "765  -0.724204 -0.278185  2.697994"
      ]
     },
     "execution_count": 31,
     "metadata": {},
     "output_type": "execute_result"
    }
   ],
   "source": [
    "# Concatenate principal components with X_train, X_test\n",
    "X_pca = pd.concat([X_train_pca, X_test_pca],axis=0)\n",
    "X_pca.info()\n",
    "X_pca.head()"
   ]
  },
  {
   "cell_type": "code",
   "execution_count": 32,
   "id": "cdaa0782-a62a-455c-944c-790933666761",
   "metadata": {},
   "outputs": [
    {
     "name": "stdout",
     "output_type": "stream",
     "text": [
      "<class 'pandas.core.frame.DataFrame'>\n",
      "Int64Index: 2401 entries, 263 to 1934\n",
      "Data columns (total 24 columns):\n",
      " #   Column             Non-Null Count  Dtype  \n",
      "---  ------             --------------  -----  \n",
      " 0   Sex_Female         2401 non-null   float64\n",
      " 1   Sex_Male           2401 non-null   float64\n",
      " 2   Marital_Divorced   2401 non-null   float64\n",
      " 3   Marital_Married    2401 non-null   float64\n",
      " 4   Marital_Separated  2401 non-null   float64\n",
      " 5   Marital_Single     2401 non-null   float64\n",
      " 6   Marital_Widowed    2401 non-null   float64\n",
      " 7   Marital_missing    2401 non-null   float64\n",
      " 8   Race_Asian         2401 non-null   float64\n",
      " 9   Race_Black         2401 non-null   float64\n",
      " 10  Race_Hispanic      2401 non-null   float64\n",
      " 11  Race_MexAmerican   2401 non-null   float64\n",
      " 12  Race_Other         2401 non-null   float64\n",
      " 13  Race_White         2401 non-null   float64\n",
      " 14  Albuminuria        2401 non-null   float64\n",
      " 15  Age                2401 non-null   float64\n",
      " 16  Income             2401 non-null   float64\n",
      " 17  WaistCirc          2401 non-null   float64\n",
      " 18  BMI                2401 non-null   float64\n",
      " 19  UrAlbCr            2401 non-null   float64\n",
      " 20  UricAcid           2401 non-null   float64\n",
      " 21  BloodGlucose       2401 non-null   float64\n",
      " 22  HDL                2401 non-null   float64\n",
      " 23  Triglycerides      2401 non-null   float64\n",
      "dtypes: float64(24)\n",
      "memory usage: 468.9 KB\n"
     ]
    },
    {
     "data": {
      "text/html": [
       "<div>\n",
       "<style scoped>\n",
       "    .dataframe tbody tr th:only-of-type {\n",
       "        vertical-align: middle;\n",
       "    }\n",
       "\n",
       "    .dataframe tbody tr th {\n",
       "        vertical-align: top;\n",
       "    }\n",
       "\n",
       "    .dataframe thead th {\n",
       "        text-align: right;\n",
       "    }\n",
       "</style>\n",
       "<table border=\"1\" class=\"dataframe\">\n",
       "  <thead>\n",
       "    <tr style=\"text-align: right;\">\n",
       "      <th></th>\n",
       "      <th>Sex_Female</th>\n",
       "      <th>Sex_Male</th>\n",
       "      <th>Marital_Divorced</th>\n",
       "      <th>Marital_Married</th>\n",
       "      <th>Marital_Separated</th>\n",
       "      <th>Marital_Single</th>\n",
       "      <th>Marital_Widowed</th>\n",
       "      <th>Marital_missing</th>\n",
       "      <th>Race_Asian</th>\n",
       "      <th>Race_Black</th>\n",
       "      <th>...</th>\n",
       "      <th>Albuminuria</th>\n",
       "      <th>Age</th>\n",
       "      <th>Income</th>\n",
       "      <th>WaistCirc</th>\n",
       "      <th>BMI</th>\n",
       "      <th>UrAlbCr</th>\n",
       "      <th>UricAcid</th>\n",
       "      <th>BloodGlucose</th>\n",
       "      <th>HDL</th>\n",
       "      <th>Triglycerides</th>\n",
       "    </tr>\n",
       "  </thead>\n",
       "  <tbody>\n",
       "    <tr>\n",
       "      <th>263</th>\n",
       "      <td>1.0</td>\n",
       "      <td>0.0</td>\n",
       "      <td>0.0</td>\n",
       "      <td>1.0</td>\n",
       "      <td>0.0</td>\n",
       "      <td>0.0</td>\n",
       "      <td>0.0</td>\n",
       "      <td>0.0</td>\n",
       "      <td>0.0</td>\n",
       "      <td>0.0</td>\n",
       "      <td>...</td>\n",
       "      <td>-0.366397</td>\n",
       "      <td>-0.176875</td>\n",
       "      <td>1.443579</td>\n",
       "      <td>1.591313</td>\n",
       "      <td>1.815754</td>\n",
       "      <td>-0.100646</td>\n",
       "      <td>-1.503810</td>\n",
       "      <td>0.962189</td>\n",
       "      <td>-0.045041</td>\n",
       "      <td>0.728110</td>\n",
       "    </tr>\n",
       "    <tr>\n",
       "      <th>2073</th>\n",
       "      <td>0.0</td>\n",
       "      <td>1.0</td>\n",
       "      <td>0.0</td>\n",
       "      <td>0.0</td>\n",
       "      <td>1.0</td>\n",
       "      <td>0.0</td>\n",
       "      <td>0.0</td>\n",
       "      <td>0.0</td>\n",
       "      <td>0.0</td>\n",
       "      <td>0.0</td>\n",
       "      <td>...</td>\n",
       "      <td>-0.366397</td>\n",
       "      <td>-0.857407</td>\n",
       "      <td>-0.165173</td>\n",
       "      <td>-0.767163</td>\n",
       "      <td>-0.637064</td>\n",
       "      <td>-0.108892</td>\n",
       "      <td>0.406271</td>\n",
       "      <td>0.185052</td>\n",
       "      <td>1.929154</td>\n",
       "      <td>-0.704544</td>\n",
       "    </tr>\n",
       "    <tr>\n",
       "      <th>632</th>\n",
       "      <td>1.0</td>\n",
       "      <td>0.0</td>\n",
       "      <td>0.0</td>\n",
       "      <td>1.0</td>\n",
       "      <td>0.0</td>\n",
       "      <td>0.0</td>\n",
       "      <td>0.0</td>\n",
       "      <td>0.0</td>\n",
       "      <td>0.0</td>\n",
       "      <td>0.0</td>\n",
       "      <td>...</td>\n",
       "      <td>-0.366397</td>\n",
       "      <td>-0.914117</td>\n",
       "      <td>-0.165173</td>\n",
       "      <td>-1.465971</td>\n",
       "      <td>-0.561824</td>\n",
       "      <td>-0.125171</td>\n",
       "      <td>-1.435593</td>\n",
       "      <td>-0.323077</td>\n",
       "      <td>-0.637299</td>\n",
       "      <td>-0.704544</td>\n",
       "    </tr>\n",
       "    <tr>\n",
       "      <th>1732</th>\n",
       "      <td>1.0</td>\n",
       "      <td>0.0</td>\n",
       "      <td>0.0</td>\n",
       "      <td>1.0</td>\n",
       "      <td>0.0</td>\n",
       "      <td>0.0</td>\n",
       "      <td>0.0</td>\n",
       "      <td>0.0</td>\n",
       "      <td>0.0</td>\n",
       "      <td>0.0</td>\n",
       "      <td>...</td>\n",
       "      <td>-0.366397</td>\n",
       "      <td>-0.006742</td>\n",
       "      <td>1.717409</td>\n",
       "      <td>-0.174425</td>\n",
       "      <td>0.687157</td>\n",
       "      <td>-0.152526</td>\n",
       "      <td>-1.913113</td>\n",
       "      <td>-0.562196</td>\n",
       "      <td>-0.176654</td>\n",
       "      <td>0.115599</td>\n",
       "    </tr>\n",
       "    <tr>\n",
       "      <th>765</th>\n",
       "      <td>0.0</td>\n",
       "      <td>1.0</td>\n",
       "      <td>0.0</td>\n",
       "      <td>1.0</td>\n",
       "      <td>0.0</td>\n",
       "      <td>0.0</td>\n",
       "      <td>0.0</td>\n",
       "      <td>0.0</td>\n",
       "      <td>1.0</td>\n",
       "      <td>0.0</td>\n",
       "      <td>...</td>\n",
       "      <td>-0.366397</td>\n",
       "      <td>-1.084250</td>\n",
       "      <td>1.717409</td>\n",
       "      <td>-1.422296</td>\n",
       "      <td>-1.028311</td>\n",
       "      <td>-0.138548</td>\n",
       "      <td>1.088443</td>\n",
       "      <td>-0.801315</td>\n",
       "      <td>0.283992</td>\n",
       "      <td>2.762893</td>\n",
       "    </tr>\n",
       "  </tbody>\n",
       "</table>\n",
       "<p>5 rows × 24 columns</p>\n",
       "</div>"
      ],
      "text/plain": [
       "      Sex_Female  Sex_Male  Marital_Divorced  Marital_Married  \\\n",
       "263          1.0       0.0               0.0              1.0   \n",
       "2073         0.0       1.0               0.0              0.0   \n",
       "632          1.0       0.0               0.0              1.0   \n",
       "1732         1.0       0.0               0.0              1.0   \n",
       "765          0.0       1.0               0.0              1.0   \n",
       "\n",
       "      Marital_Separated  Marital_Single  Marital_Widowed  Marital_missing  \\\n",
       "263                 0.0             0.0              0.0              0.0   \n",
       "2073                1.0             0.0              0.0              0.0   \n",
       "632                 0.0             0.0              0.0              0.0   \n",
       "1732                0.0             0.0              0.0              0.0   \n",
       "765                 0.0             0.0              0.0              0.0   \n",
       "\n",
       "      Race_Asian  Race_Black  ...  Albuminuria       Age    Income  WaistCirc  \\\n",
       "263          0.0         0.0  ...    -0.366397 -0.176875  1.443579   1.591313   \n",
       "2073         0.0         0.0  ...    -0.366397 -0.857407 -0.165173  -0.767163   \n",
       "632          0.0         0.0  ...    -0.366397 -0.914117 -0.165173  -1.465971   \n",
       "1732         0.0         0.0  ...    -0.366397 -0.006742  1.717409  -0.174425   \n",
       "765          1.0         0.0  ...    -0.366397 -1.084250  1.717409  -1.422296   \n",
       "\n",
       "           BMI   UrAlbCr  UricAcid  BloodGlucose       HDL  Triglycerides  \n",
       "263   1.815754 -0.100646 -1.503810      0.962189 -0.045041       0.728110  \n",
       "2073 -0.637064 -0.108892  0.406271      0.185052  1.929154      -0.704544  \n",
       "632  -0.561824 -0.125171 -1.435593     -0.323077 -0.637299      -0.704544  \n",
       "1732  0.687157 -0.152526 -1.913113     -0.562196 -0.176654       0.115599  \n",
       "765  -1.028311 -0.138548  1.088443     -0.801315  0.283992       2.762893  \n",
       "\n",
       "[5 rows x 24 columns]"
      ]
     },
     "execution_count": 32,
     "metadata": {},
     "output_type": "execute_result"
    }
   ],
   "source": [
    "#joinning X_tain_tf and X_test_tf\n",
    "X_train_conc = pd.concat([X_train_tf, X_test_tf],axis=0)\n",
    "X_train_conc.info()\n",
    "X_train_conc.head()"
   ]
  },
  {
   "cell_type": "code",
   "execution_count": 33,
   "id": "227ce219-f70f-4932-bf71-958017f6712c",
   "metadata": {},
   "outputs": [
    {
     "name": "stdout",
     "output_type": "stream",
     "text": [
      "<class 'pandas.core.frame.DataFrame'>\n",
      "Int64Index: 2401 entries, 263 to 1934\n",
      "Data columns (total 27 columns):\n",
      " #   Column             Non-Null Count  Dtype  \n",
      "---  ------             --------------  -----  \n",
      " 0   pca0               2401 non-null   float64\n",
      " 1   pca1               2401 non-null   float64\n",
      " 2   pca2               2401 non-null   float64\n",
      " 3   Sex_Female         2401 non-null   float64\n",
      " 4   Sex_Male           2401 non-null   float64\n",
      " 5   Marital_Divorced   2401 non-null   float64\n",
      " 6   Marital_Married    2401 non-null   float64\n",
      " 7   Marital_Separated  2401 non-null   float64\n",
      " 8   Marital_Single     2401 non-null   float64\n",
      " 9   Marital_Widowed    2401 non-null   float64\n",
      " 10  Marital_missing    2401 non-null   float64\n",
      " 11  Race_Asian         2401 non-null   float64\n",
      " 12  Race_Black         2401 non-null   float64\n",
      " 13  Race_Hispanic      2401 non-null   float64\n",
      " 14  Race_MexAmerican   2401 non-null   float64\n",
      " 15  Race_Other         2401 non-null   float64\n",
      " 16  Race_White         2401 non-null   float64\n",
      " 17  Albuminuria        2401 non-null   float64\n",
      " 18  Age                2401 non-null   float64\n",
      " 19  Income             2401 non-null   float64\n",
      " 20  WaistCirc          2401 non-null   float64\n",
      " 21  BMI                2401 non-null   float64\n",
      " 22  UrAlbCr            2401 non-null   float64\n",
      " 23  UricAcid           2401 non-null   float64\n",
      " 24  BloodGlucose       2401 non-null   float64\n",
      " 25  HDL                2401 non-null   float64\n",
      " 26  Triglycerides      2401 non-null   float64\n",
      "dtypes: float64(27)\n",
      "memory usage: 525.2 KB\n"
     ]
    },
    {
     "data": {
      "text/html": [
       "<div>\n",
       "<style scoped>\n",
       "    .dataframe tbody tr th:only-of-type {\n",
       "        vertical-align: middle;\n",
       "    }\n",
       "\n",
       "    .dataframe tbody tr th {\n",
       "        vertical-align: top;\n",
       "    }\n",
       "\n",
       "    .dataframe thead th {\n",
       "        text-align: right;\n",
       "    }\n",
       "</style>\n",
       "<table border=\"1\" class=\"dataframe\">\n",
       "  <thead>\n",
       "    <tr style=\"text-align: right;\">\n",
       "      <th></th>\n",
       "      <th>pca0</th>\n",
       "      <th>pca1</th>\n",
       "      <th>pca2</th>\n",
       "      <th>Sex_Female</th>\n",
       "      <th>Sex_Male</th>\n",
       "      <th>Marital_Divorced</th>\n",
       "      <th>Marital_Married</th>\n",
       "      <th>Marital_Separated</th>\n",
       "      <th>Marital_Single</th>\n",
       "      <th>Marital_Widowed</th>\n",
       "      <th>...</th>\n",
       "      <th>Albuminuria</th>\n",
       "      <th>Age</th>\n",
       "      <th>Income</th>\n",
       "      <th>WaistCirc</th>\n",
       "      <th>BMI</th>\n",
       "      <th>UrAlbCr</th>\n",
       "      <th>UricAcid</th>\n",
       "      <th>BloodGlucose</th>\n",
       "      <th>HDL</th>\n",
       "      <th>Triglycerides</th>\n",
       "    </tr>\n",
       "  </thead>\n",
       "  <tbody>\n",
       "    <tr>\n",
       "      <th>263</th>\n",
       "      <td>1.319839</td>\n",
       "      <td>-1.157142</td>\n",
       "      <td>-1.251156</td>\n",
       "      <td>1.0</td>\n",
       "      <td>0.0</td>\n",
       "      <td>0.0</td>\n",
       "      <td>1.0</td>\n",
       "      <td>0.0</td>\n",
       "      <td>0.0</td>\n",
       "      <td>0.0</td>\n",
       "      <td>...</td>\n",
       "      <td>-0.366397</td>\n",
       "      <td>-0.176875</td>\n",
       "      <td>1.443579</td>\n",
       "      <td>1.591313</td>\n",
       "      <td>1.815754</td>\n",
       "      <td>-0.100646</td>\n",
       "      <td>-1.503810</td>\n",
       "      <td>0.962189</td>\n",
       "      <td>-0.045041</td>\n",
       "      <td>0.728110</td>\n",
       "    </tr>\n",
       "    <tr>\n",
       "      <th>2073</th>\n",
       "      <td>-1.519720</td>\n",
       "      <td>0.336558</td>\n",
       "      <td>-0.195914</td>\n",
       "      <td>0.0</td>\n",
       "      <td>1.0</td>\n",
       "      <td>0.0</td>\n",
       "      <td>0.0</td>\n",
       "      <td>1.0</td>\n",
       "      <td>0.0</td>\n",
       "      <td>0.0</td>\n",
       "      <td>...</td>\n",
       "      <td>-0.366397</td>\n",
       "      <td>-0.857407</td>\n",
       "      <td>-0.165173</td>\n",
       "      <td>-0.767163</td>\n",
       "      <td>-0.637064</td>\n",
       "      <td>-0.108892</td>\n",
       "      <td>0.406271</td>\n",
       "      <td>0.185052</td>\n",
       "      <td>1.929154</td>\n",
       "      <td>-0.704544</td>\n",
       "    </tr>\n",
       "    <tr>\n",
       "      <th>632</th>\n",
       "      <td>-1.904998</td>\n",
       "      <td>-0.145953</td>\n",
       "      <td>0.613600</td>\n",
       "      <td>1.0</td>\n",
       "      <td>0.0</td>\n",
       "      <td>0.0</td>\n",
       "      <td>1.0</td>\n",
       "      <td>0.0</td>\n",
       "      <td>0.0</td>\n",
       "      <td>0.0</td>\n",
       "      <td>...</td>\n",
       "      <td>-0.366397</td>\n",
       "      <td>-0.914117</td>\n",
       "      <td>-0.165173</td>\n",
       "      <td>-1.465971</td>\n",
       "      <td>-0.561824</td>\n",
       "      <td>-0.125171</td>\n",
       "      <td>-1.435593</td>\n",
       "      <td>-0.323077</td>\n",
       "      <td>-0.637299</td>\n",
       "      <td>-0.704544</td>\n",
       "    </tr>\n",
       "    <tr>\n",
       "      <th>1732</th>\n",
       "      <td>-0.817140</td>\n",
       "      <td>-0.618495</td>\n",
       "      <td>-0.676716</td>\n",
       "      <td>1.0</td>\n",
       "      <td>0.0</td>\n",
       "      <td>0.0</td>\n",
       "      <td>1.0</td>\n",
       "      <td>0.0</td>\n",
       "      <td>0.0</td>\n",
       "      <td>0.0</td>\n",
       "      <td>...</td>\n",
       "      <td>-0.366397</td>\n",
       "      <td>-0.006742</td>\n",
       "      <td>1.717409</td>\n",
       "      <td>-0.174425</td>\n",
       "      <td>0.687157</td>\n",
       "      <td>-0.152526</td>\n",
       "      <td>-1.913113</td>\n",
       "      <td>-0.562196</td>\n",
       "      <td>-0.176654</td>\n",
       "      <td>0.115599</td>\n",
       "    </tr>\n",
       "    <tr>\n",
       "      <th>765</th>\n",
       "      <td>-0.724204</td>\n",
       "      <td>-0.278185</td>\n",
       "      <td>2.697994</td>\n",
       "      <td>0.0</td>\n",
       "      <td>1.0</td>\n",
       "      <td>0.0</td>\n",
       "      <td>1.0</td>\n",
       "      <td>0.0</td>\n",
       "      <td>0.0</td>\n",
       "      <td>0.0</td>\n",
       "      <td>...</td>\n",
       "      <td>-0.366397</td>\n",
       "      <td>-1.084250</td>\n",
       "      <td>1.717409</td>\n",
       "      <td>-1.422296</td>\n",
       "      <td>-1.028311</td>\n",
       "      <td>-0.138548</td>\n",
       "      <td>1.088443</td>\n",
       "      <td>-0.801315</td>\n",
       "      <td>0.283992</td>\n",
       "      <td>2.762893</td>\n",
       "    </tr>\n",
       "  </tbody>\n",
       "</table>\n",
       "<p>5 rows × 27 columns</p>\n",
       "</div>"
      ],
      "text/plain": [
       "          pca0      pca1      pca2  Sex_Female  Sex_Male  Marital_Divorced  \\\n",
       "263   1.319839 -1.157142 -1.251156         1.0       0.0               0.0   \n",
       "2073 -1.519720  0.336558 -0.195914         0.0       1.0               0.0   \n",
       "632  -1.904998 -0.145953  0.613600         1.0       0.0               0.0   \n",
       "1732 -0.817140 -0.618495 -0.676716         1.0       0.0               0.0   \n",
       "765  -0.724204 -0.278185  2.697994         0.0       1.0               0.0   \n",
       "\n",
       "      Marital_Married  Marital_Separated  Marital_Single  Marital_Widowed  \\\n",
       "263               1.0                0.0             0.0              0.0   \n",
       "2073              0.0                1.0             0.0              0.0   \n",
       "632               1.0                0.0             0.0              0.0   \n",
       "1732              1.0                0.0             0.0              0.0   \n",
       "765               1.0                0.0             0.0              0.0   \n",
       "\n",
       "      ...  Albuminuria       Age    Income  WaistCirc       BMI   UrAlbCr  \\\n",
       "263   ...    -0.366397 -0.176875  1.443579   1.591313  1.815754 -0.100646   \n",
       "2073  ...    -0.366397 -0.857407 -0.165173  -0.767163 -0.637064 -0.108892   \n",
       "632   ...    -0.366397 -0.914117 -0.165173  -1.465971 -0.561824 -0.125171   \n",
       "1732  ...    -0.366397 -0.006742  1.717409  -0.174425  0.687157 -0.152526   \n",
       "765   ...    -0.366397 -1.084250  1.717409  -1.422296 -1.028311 -0.138548   \n",
       "\n",
       "      UricAcid  BloodGlucose       HDL  Triglycerides  \n",
       "263  -1.503810      0.962189 -0.045041       0.728110  \n",
       "2073  0.406271      0.185052  1.929154      -0.704544  \n",
       "632  -1.435593     -0.323077 -0.637299      -0.704544  \n",
       "1732 -1.913113     -0.562196 -0.176654       0.115599  \n",
       "765   1.088443     -0.801315  0.283992       2.762893  \n",
       "\n",
       "[5 rows x 27 columns]"
      ]
     },
     "execution_count": 33,
     "metadata": {},
     "output_type": "execute_result"
    }
   ],
   "source": [
    "# Concatenate principal components with X_train, X_test\n",
    "X_new = pd.concat([X_pca, X_train_conc],axis=1)\n",
    "X_new.info()\n",
    "X_new.head()"
   ]
  },
  {
   "cell_type": "code",
   "execution_count": 34,
   "id": "df385767-4a03-4f50-97d8-48970b8e4c08",
   "metadata": {},
   "outputs": [
    {
     "data": {
      "text/plain": [
       "0.46484353064174255"
      ]
     },
     "execution_count": 34,
     "metadata": {},
     "output_type": "execute_result"
    }
   ],
   "source": [
    "# Variance explained by PCA\n",
    "pca.explained_variance_ratio_.sum()"
   ]
  },
  {
   "cell_type": "code",
   "execution_count": 35,
   "id": "4a928095-8b91-41bb-8074-be1ec7d7e2fd",
   "metadata": {},
   "outputs": [
    {
     "name": "stdout",
     "output_type": "stream",
     "text": [
      "----------------------------------------------------------------------\n",
      " Classification Metrics: Training Data\n",
      "----------------------------------------------------------------------\n",
      "              precision    recall  f1-score   support\n",
      "\n",
      "           0       1.00      1.00      1.00      1182\n",
      "           1       1.00      1.00      1.00       618\n",
      "\n",
      "    accuracy                           1.00      1800\n",
      "   macro avg       1.00      1.00      1.00      1800\n",
      "weighted avg       1.00      1.00      1.00      1800\n",
      "\n"
     ]
    },
    {
     "data": {
      "image/png": "[encoded data removed]",
      "text/plain": [
       "<Figure size 600x400 with 2 Axes>"
      ]
     },
     "metadata": {},
     "output_type": "display_data"
    },
    {
     "name": "stdout",
     "output_type": "stream",
     "text": [
      "\n",
      "----------------------------------------------------------------------\n",
      " Classification Metrics: Test Data\n",
      "----------------------------------------------------------------------\n",
      "              precision    recall  f1-score   support\n",
      "\n",
      "           0       0.82      0.85      0.84       397\n",
      "           1       0.69      0.64      0.66       204\n",
      "\n",
      "    accuracy                           0.78       601\n",
      "   macro avg       0.76      0.75      0.75       601\n",
      "weighted avg       0.78      0.78      0.78       601\n",
      "\n"
     ]
    },
    {
     "data": {
      "image/png": "[encoded data removed]",
      "text/plain": [
       "<Figure size 600x400 with 2 Axes>"
      ]
     },
     "metadata": {},
     "output_type": "display_data"
    }
   ],
   "source": [
    "#Fitting and evaluating model on new features\n",
    "rfc.fit(X_train_pca, y_train)\n",
    "evaluate_classification(rfc, X_train_pca, y_train, X_test_pca, y_test)"
   ]
  },
  {
   "cell_type": "markdown",
   "id": "72bdf23b-8f22-4ef2-8cc5-77900f85d6ea",
   "metadata": {},
   "source": [
    "- while the first model performed at 88%, this model with just 3 features performs at 78% which is impressive given the reduction in feature space.\n",
    "- The recall for predicting whether one has metabolic syndrome is 77 for the first model and just 64 for this model. this would be reduced efficiency but with our second model only accounting for less than 50% of the variation in the data, that is still impressive."
   ]
  },
  {
   "cell_type": "markdown",
   "id": "7b6414a2-89da-49a0-bba8-ddf3d8f1e449",
   "metadata": {},
   "source": [
    "# Feature Selection"
   ]
  },
  {
   "cell_type": "code",
   "execution_count": 36,
   "id": "f0d6669d-d3a3-4f13-a835-77cd40bf2935",
   "metadata": {},
   "outputs": [],
   "source": [
    "#defining feature matrix\n",
    "X = X_new\n",
    "y = df['MetabolicSyndrome']"
   ]
  },
  {
   "cell_type": "code",
   "execution_count": 37,
   "id": "91468f11-80e0-4896-84db-05a851d3daab",
   "metadata": {},
   "outputs": [
    {
     "data": {
      "text/html": [
       "<div>\n",
       "<style scoped>\n",
       "    .dataframe tbody tr th:only-of-type {\n",
       "        vertical-align: middle;\n",
       "    }\n",
       "\n",
       "    .dataframe tbody tr th {\n",
       "        vertical-align: top;\n",
       "    }\n",
       "\n",
       "    .dataframe thead th {\n",
       "        text-align: right;\n",
       "    }\n",
       "</style>\n",
       "<table border=\"1\" class=\"dataframe\">\n",
       "  <thead>\n",
       "    <tr style=\"text-align: right;\">\n",
       "      <th></th>\n",
       "      <th>pca0</th>\n",
       "      <th>pca1</th>\n",
       "      <th>pca2</th>\n",
       "      <th>Sex_Female</th>\n",
       "      <th>Sex_Male</th>\n",
       "      <th>Marital_Divorced</th>\n",
       "      <th>Marital_Married</th>\n",
       "      <th>Marital_Separated</th>\n",
       "      <th>Marital_Single</th>\n",
       "      <th>Marital_Widowed</th>\n",
       "      <th>...</th>\n",
       "      <th>Albuminuria</th>\n",
       "      <th>Age</th>\n",
       "      <th>Income</th>\n",
       "      <th>WaistCirc</th>\n",
       "      <th>BMI</th>\n",
       "      <th>UrAlbCr</th>\n",
       "      <th>UricAcid</th>\n",
       "      <th>BloodGlucose</th>\n",
       "      <th>HDL</th>\n",
       "      <th>Triglycerides</th>\n",
       "    </tr>\n",
       "  </thead>\n",
       "  <tbody>\n",
       "    <tr>\n",
       "      <th>2291</th>\n",
       "      <td>1.724298</td>\n",
       "      <td>1.867877</td>\n",
       "      <td>-1.111231</td>\n",
       "      <td>1.0</td>\n",
       "      <td>0.0</td>\n",
       "      <td>0.0</td>\n",
       "      <td>1.0</td>\n",
       "      <td>0.0</td>\n",
       "      <td>0.0</td>\n",
       "      <td>0.0</td>\n",
       "      <td>...</td>\n",
       "      <td>1.989011</td>\n",
       "      <td>1.184188</td>\n",
       "      <td>-0.781291</td>\n",
       "      <td>0.593016</td>\n",
       "      <td>0.882781</td>\n",
       "      <td>0.627828</td>\n",
       "      <td>0.542706</td>\n",
       "      <td>0.454061</td>\n",
       "      <td>0.876250</td>\n",
       "      <td>0.665820</td>\n",
       "    </tr>\n",
       "    <tr>\n",
       "      <th>322</th>\n",
       "      <td>0.771861</td>\n",
       "      <td>-0.670519</td>\n",
       "      <td>-0.902654</td>\n",
       "      <td>1.0</td>\n",
       "      <td>0.0</td>\n",
       "      <td>1.0</td>\n",
       "      <td>0.0</td>\n",
       "      <td>0.0</td>\n",
       "      <td>0.0</td>\n",
       "      <td>0.0</td>\n",
       "      <td>...</td>\n",
       "      <td>-0.366397</td>\n",
       "      <td>0.106680</td>\n",
       "      <td>-0.815519</td>\n",
       "      <td>1.104643</td>\n",
       "      <td>0.732301</td>\n",
       "      <td>-0.145059</td>\n",
       "      <td>-0.071249</td>\n",
       "      <td>-0.173627</td>\n",
       "      <td>-0.176654</td>\n",
       "      <td>0.001402</td>\n",
       "    </tr>\n",
       "    <tr>\n",
       "      <th>608</th>\n",
       "      <td>0.494528</td>\n",
       "      <td>-0.465518</td>\n",
       "      <td>-0.480310</td>\n",
       "      <td>0.0</td>\n",
       "      <td>1.0</td>\n",
       "      <td>0.0</td>\n",
       "      <td>1.0</td>\n",
       "      <td>0.0</td>\n",
       "      <td>0.0</td>\n",
       "      <td>0.0</td>\n",
       "      <td>...</td>\n",
       "      <td>-0.366397</td>\n",
       "      <td>0.617078</td>\n",
       "      <td>-0.507461</td>\n",
       "      <td>0.368399</td>\n",
       "      <td>0.626965</td>\n",
       "      <td>-0.091551</td>\n",
       "      <td>-0.071249</td>\n",
       "      <td>-0.233407</td>\n",
       "      <td>-0.505686</td>\n",
       "      <td>-0.621491</td>\n",
       "    </tr>\n",
       "    <tr>\n",
       "      <th>704</th>\n",
       "      <td>-2.684427</td>\n",
       "      <td>0.224452</td>\n",
       "      <td>0.601468</td>\n",
       "      <td>1.0</td>\n",
       "      <td>0.0</td>\n",
       "      <td>0.0</td>\n",
       "      <td>0.0</td>\n",
       "      <td>0.0</td>\n",
       "      <td>1.0</td>\n",
       "      <td>0.0</td>\n",
       "      <td>...</td>\n",
       "      <td>-0.366397</td>\n",
       "      <td>-1.140961</td>\n",
       "      <td>1.717409</td>\n",
       "      <td>-1.615716</td>\n",
       "      <td>-1.058407</td>\n",
       "      <td>-0.136601</td>\n",
       "      <td>-1.026290</td>\n",
       "      <td>-0.352966</td>\n",
       "      <td>1.336896</td>\n",
       "      <td>0.427045</td>\n",
       "    </tr>\n",
       "    <tr>\n",
       "      <th>428</th>\n",
       "      <td>0.912901</td>\n",
       "      <td>0.031125</td>\n",
       "      <td>-0.762557</td>\n",
       "      <td>1.0</td>\n",
       "      <td>0.0</td>\n",
       "      <td>0.0</td>\n",
       "      <td>0.0</td>\n",
       "      <td>0.0</td>\n",
       "      <td>0.0</td>\n",
       "      <td>1.0</td>\n",
       "      <td>...</td>\n",
       "      <td>-0.366397</td>\n",
       "      <td>1.637875</td>\n",
       "      <td>-0.815519</td>\n",
       "      <td>0.699085</td>\n",
       "      <td>0.310958</td>\n",
       "      <td>-0.118270</td>\n",
       "      <td>-0.207683</td>\n",
       "      <td>0.095382</td>\n",
       "      <td>-0.045041</td>\n",
       "      <td>0.696965</td>\n",
       "    </tr>\n",
       "  </tbody>\n",
       "</table>\n",
       "<p>5 rows × 27 columns</p>\n",
       "</div>"
      ],
      "text/plain": [
       "          pca0      pca1      pca2  Sex_Female  Sex_Male  Marital_Divorced  \\\n",
       "2291  1.724298  1.867877 -1.111231         1.0       0.0               0.0   \n",
       "322   0.771861 -0.670519 -0.902654         1.0       0.0               1.0   \n",
       "608   0.494528 -0.465518 -0.480310         0.0       1.0               0.0   \n",
       "704  -2.684427  0.224452  0.601468         1.0       0.0               0.0   \n",
       "428   0.912901  0.031125 -0.762557         1.0       0.0               0.0   \n",
       "\n",
       "      Marital_Married  Marital_Separated  Marital_Single  Marital_Widowed  \\\n",
       "2291              1.0                0.0             0.0              0.0   \n",
       "322               0.0                0.0             0.0              0.0   \n",
       "608               1.0                0.0             0.0              0.0   \n",
       "704               0.0                0.0             1.0              0.0   \n",
       "428               0.0                0.0             0.0              1.0   \n",
       "\n",
       "      ...  Albuminuria       Age    Income  WaistCirc       BMI   UrAlbCr  \\\n",
       "2291  ...     1.989011  1.184188 -0.781291   0.593016  0.882781  0.627828   \n",
       "322   ...    -0.366397  0.106680 -0.815519   1.104643  0.732301 -0.145059   \n",
       "608   ...    -0.366397  0.617078 -0.507461   0.368399  0.626965 -0.091551   \n",
       "704   ...    -0.366397 -1.140961  1.717409  -1.615716 -1.058407 -0.136601   \n",
       "428   ...    -0.366397  1.637875 -0.815519   0.699085  0.310958 -0.118270   \n",
       "\n",
       "      UricAcid  BloodGlucose       HDL  Triglycerides  \n",
       "2291  0.542706      0.454061  0.876250       0.665820  \n",
       "322  -0.071249     -0.173627 -0.176654       0.001402  \n",
       "608  -0.071249     -0.233407 -0.505686      -0.621491  \n",
       "704  -1.026290     -0.352966  1.336896       0.427045  \n",
       "428  -0.207683      0.095382 -0.045041       0.696965  \n",
       "\n",
       "[5 rows x 27 columns]"
      ]
     },
     "execution_count": 37,
     "metadata": {},
     "output_type": "execute_result"
    }
   ],
   "source": [
    "# Train test split\n",
    "X_train,X_test,y_train,y_test = train_test_split(X,y, random_state=321)\n",
    "X_train.head()"
   ]
  },
  {
   "cell_type": "code",
   "execution_count": 38,
   "id": "5ce5f370-7feb-4074-8780-551581f6749a",
   "metadata": {},
   "outputs": [],
   "source": [
    "# Scale\n",
    "scaler = StandardScaler()\n",
    "scaler.fit(X_train)\n",
    "X_train_scaled=scaler.transform(X_train)\n",
    "X_test_scaled=scaler.transform(X_test)"
   ]
  },
  {
   "cell_type": "code",
   "execution_count": 39,
   "id": "b3d7fa11-2793-4b58-a6a2-08e6c1c9242b",
   "metadata": {},
   "outputs": [
    {
     "data": {
      "text/plain": [
       "0    0.657643\n",
       "1    0.342357\n",
       "Name: MetabolicSyndrome, dtype: float64"
      ]
     },
     "execution_count": 39,
     "metadata": {},
     "output_type": "execute_result"
    }
   ],
   "source": [
    "#checking classs balance\n",
    "df.MetabolicSyndrome.value_counts(1)"
   ]
  },
  {
   "cell_type": "code",
   "execution_count": 40,
   "id": "45e41443-087b-4918-839c-1ca5bf775af5",
   "metadata": {},
   "outputs": [
    {
     "data": {
      "text/plain": [
       "1    1207\n",
       "0    1207\n",
       "Name: MetabolicSyndrome, dtype: int64"
      ]
     },
     "execution_count": 40,
     "metadata": {},
     "output_type": "execute_result"
    }
   ],
   "source": [
    "from imblearn.over_sampling import SMOTE\n",
    "smote = SMOTE(random_state = 42)\n",
    "X_train_sm,y_train_sm = smote.fit_resample(X_train_scaled, y_train)\n",
    "y_train_sm.value_counts()"
   ]
  },
  {
   "cell_type": "code",
   "execution_count": 41,
   "id": "8eca235b-b866-476e-88ef-50803c512a36",
   "metadata": {},
   "outputs": [
    {
     "data": {
      "image/png": "[encoded data removed]",
      "text/plain": [
       "<Figure size 1500x1500 with 2 Axes>"
      ]
     },
     "metadata": {},
     "output_type": "display_data"
    }
   ],
   "source": [
    "# Make a correlation heatmap of all features\n",
    "corr = X_train_sm.corr()\n",
    "plt.figure(figsize=(15,15))\n",
    "sns.heatmap(corr,cmap='coolwarm');"
   ]
  },
  {
   "cell_type": "code",
   "execution_count": 42,
   "id": "bdb3909e-d9a0-477c-b70b-aa7249248b98",
   "metadata": {},
   "outputs": [],
   "source": [
    "from collinearity import SelectNonCollinear\n",
    "from sklearn.feature_selection import f_classif"
   ]
  },
  {
   "cell_type": "code",
   "execution_count": 43,
   "id": "6bbcdd92-609e-425f-8023-2a26aa4583cf",
   "metadata": {},
   "outputs": [],
   "source": [
    "# Instantiate the selector, indicate theshold for r, also include the appropriate scoring metric for the task\n",
    "selector = SelectNonCollinear(correlation_threshold = 0.75, scoring = f_classif)\n",
    "# Fit the selector to the training data\n",
    "selector.fit(X_train_sm.values, y_train_sm.values)"
   ]
  },
  {
   "cell_type": "code",
   "execution_count": 44,
   "id": "e08084f0-265a-47e4-961a-9a5a173849e6",
   "metadata": {},
   "outputs": [
    {
     "data": {
      "text/plain": [
       "[True, True, True, True, False]"
      ]
     },
     "execution_count": 44,
     "metadata": {},
     "output_type": "execute_result"
    }
   ],
   "source": [
    "# Define a mask for filtering\n",
    "non_collinear = selector.get_support()\n",
    "non_collinear[:5]"
   ]
  },
  {
   "cell_type": "code",
   "execution_count": 45,
   "id": "2a53d9dd-d839-4433-9860-a5f7f42f24fc",
   "metadata": {},
   "outputs": [
    {
     "data": {
      "text/plain": [
       "25"
      ]
     },
     "execution_count": 45,
     "metadata": {},
     "output_type": "execute_result"
    }
   ],
   "source": [
    "# Check how many features are below the theshold\n",
    "non_collinear.count(True)"
   ]
  },
  {
   "cell_type": "code",
   "execution_count": 46,
   "id": "f85ac846-4ee1-44bc-a14c-bc179881f5a3",
   "metadata": {},
   "outputs": [
    {
     "data": {
      "text/plain": [
       "2"
      ]
     },
     "execution_count": 46,
     "metadata": {},
     "output_type": "execute_result"
    }
   ],
   "source": [
    "# Check how many features are above the theshold\n",
    "non_collinear.count(False)"
   ]
  },
  {
   "cell_type": "code",
   "execution_count": 47,
   "id": "4675d83e-7065-4bf2-a603-bc34aac20810",
   "metadata": {},
   "outputs": [
    {
     "data": {
      "text/plain": [
       "pca0                  True\n",
       "pca1                  True\n",
       "pca2                  True\n",
       "Sex_Female            True\n",
       "Sex_Male             False\n",
       "Marital_Divorced      True\n",
       "Marital_Married       True\n",
       "Marital_Separated     True\n",
       "Marital_Single        True\n",
       "Marital_Widowed       True\n",
       "Marital_missing       True\n",
       "Race_Asian            True\n",
       "Race_Black            True\n",
       "Race_Hispanic         True\n",
       "Race_MexAmerican      True\n",
       "Race_Other            True\n",
       "Race_White            True\n",
       "Albuminuria           True\n",
       "Age                   True\n",
       "Income                True\n",
       "WaistCirc            False\n",
       "BMI                   True\n",
       "UrAlbCr               True\n",
       "UricAcid              True\n",
       "BloodGlucose          True\n",
       "HDL                   True\n",
       "Triglycerides         True\n",
       "dtype: bool"
      ]
     },
     "execution_count": 47,
     "metadata": {},
     "output_type": "execute_result"
    }
   ],
   "source": [
    "# Make the T/F a series with the column names as the index\n",
    "non_collinear_series = pd.Series(selector.get_support(), index=X_train_sm.columns)\n",
    "non_collinear_series"
   ]
  },
  {
   "cell_type": "code",
   "execution_count": 48,
   "id": "ca007de9-8b9c-4af1-8e88-861d967e6796",
   "metadata": {},
   "outputs": [],
   "source": [
    "# Filter training data\n",
    "training_data_to_keep = X_train_sm.values[:, non_collinear]\n",
    "# Filter column names\n",
    "columns = np.array(X_train_sm.columns)[non_collinear]\n",
    "# Make traing data into a dataframe\n",
    "X_train_no_corr = pd.DataFrame(training_data_to_keep, columns = columns)\n",
    "\n",
    "# Filter testing data\n",
    "test_data_to_keep = X_test_scaled.values[:, non_collinear]\n",
    "# Make test data into a dataframe\n",
    "X_test_no_corr = pd.DataFrame(test_data_to_keep, columns = columns)"
   ]
  },
  {
   "cell_type": "code",
   "execution_count": 49,
   "id": "8a2a1dff-7c86-4234-8a28-51f5ba53992a",
   "metadata": {},
   "outputs": [
    {
     "name": "stdout",
     "output_type": "stream",
     "text": [
      "----------------------------------------------------------------------\n",
      " Classification Metrics: Training Data\n",
      "----------------------------------------------------------------------\n",
      "              precision    recall  f1-score   support\n",
      "\n",
      "           0       1.00      1.00      1.00      1207\n",
      "           1       1.00      1.00      1.00      1207\n",
      "\n",
      "    accuracy                           1.00      2414\n",
      "   macro avg       1.00      1.00      1.00      2414\n",
      "weighted avg       1.00      1.00      1.00      2414\n",
      "\n"
     ]
    },
    {
     "data": {
      "image/png": "[encoded data removed]",
      "text/plain": [
       "<Figure size 600x400 with 2 Axes>"
      ]
     },
     "metadata": {},
     "output_type": "display_data"
    },
    {
     "name": "stdout",
     "output_type": "stream",
     "text": [
      "\n",
      "----------------------------------------------------------------------\n",
      " Classification Metrics: Test Data\n",
      "----------------------------------------------------------------------\n",
      "              precision    recall  f1-score   support\n",
      "\n",
      "           0       0.61      0.74      0.67       372\n",
      "           1       0.36      0.24      0.29       229\n",
      "\n",
      "    accuracy                           0.55       601\n",
      "   macro avg       0.49      0.49      0.48       601\n",
      "weighted avg       0.52      0.55      0.52       601\n",
      "\n"
     ]
    },
    {
     "data": {
      "image/png": "[encoded data removed]",
      "text/plain": [
       "<Figure size 600x400 with 2 Axes>"
      ]
     },
     "metadata": {},
     "output_type": "display_data"
    }
   ],
   "source": [
    "# Test the performance\n",
    "rf_clf = RandomForestClassifier(random_state=42)\n",
    "rf_clf.fit(X_train_no_corr, y_train_sm)\n",
    "evaluate_classification(rf_clf, X_train_no_corr, y_train_sm, X_test_no_corr, y_test)"
   ]
  },
  {
   "cell_type": "markdown",
   "id": "7b99b6e8-0c76-44f9-bc66-622be93cb663",
   "metadata": {},
   "source": [
    "with feature selection our accuracy has drastically fallen to just 55%"
   ]
  },
  {
   "cell_type": "code",
   "execution_count": 50,
   "id": "54191e08-ecfd-452a-93cf-90abc1d0d10f",
   "metadata": {},
   "outputs": [
    {
     "data": {
      "image/png": "[encoded data removed]",
      "text/plain": [
       "<Figure size 1000x600 with 1 Axes>"
      ]
     },
     "metadata": {},
     "output_type": "display_data"
    }
   ],
   "source": [
    "# Step 5: Extract and visualize the top 10 features using permutation importance\n",
    "from sklearn.inspection import permutation_importance\n",
    "import matplotlib.pyplot as plt\n",
    "\n",
    "# Calculate permutation importance\n",
    "result = permutation_importance(rf_clf, X_test_no_corr, y_test, n_repeats=10, random_state=42)\n",
    "sorted_idx = result.importances_mean.argsort()[-10:]\n",
    "\n",
    "# Visualize top 10 features\n",
    "plt.figure(figsize=(10, 6))\n",
    "plt.barh(range(10), result.importances_mean[sorted_idx], align='center')\n",
    "plt.yticks(range(10), X_test_no_corr.columns[sorted_idx])\n",
    "plt.xlabel('Permutation Importance')\n",
    "plt.title('Top 10 Features')\n",
    "plt.show()"
   ]
  },
  {
   "cell_type": "markdown",
   "id": "a87645d7-70bc-449f-81fd-08ca03c1857b",
   "metadata": {},
   "source": [
    "- These are definitely different features from the ones in the first case. here it seems race and marital status have quite a part to play in wheter one has the syndrome or not."
   ]
  },
  {
   "cell_type": "markdown",
   "id": "316e4adc-0979-40da-870e-f9cf75c45207",
   "metadata": {},
   "source": [
    "# PART 3\n"
   ]
  },
  {
   "cell_type": "markdown",
   "id": "349f42a6-bcd3-45f4-a46d-ea8612fa6188",
   "metadata": {},
   "source": [
    "## CUSTOM FUNCTION"
   ]
  },
  {
   "cell_type": "code",
   "execution_count": 1,
   "id": "944fcde3-8a6e-400d-af3a-8687c6872fc2",
   "metadata": {},
   "outputs": [],
   "source": [
    "# Custom function for plotting each metric\n",
    "def plot_history(history, figsize=(6,12), marker='o'):\n",
    "\n",
    "    # Get list of metrics from history\n",
    "    metrics = [c for c in history.history if not c.startswith('val_')]\n",
    "\n",
    "    ## Separate row for each metric\n",
    "    fig, axes = plt.subplots(nrows=len(metrics),figsize=figsize)\n",
    "\n",
    "    # For each metric\n",
    "    for i, metric_name in enumerate(metrics):\n",
    "\n",
    "        # Get the axis for the current metric\n",
    "        ax = axes[i]\n",
    "\n",
    "        # Get metric from history.history\n",
    "        metric_values = history.history[metric_name]\n",
    "        # Get epochs from history\n",
    "        epochs = history.epoch\n",
    "\n",
    "        # Plot the training metric\n",
    "        ax.plot(epochs, metric_values, label=metric_name, marker=marker)\n",
    "\n",
    "        ## Check if val_{metric} exists. if so, plot:\n",
    "        val_metric_name = f\"val_{metric_name}\"\n",
    "        if val_metric_name in history.history:\n",
    "            # Get validation values and plot\n",
    "            metric_values = history.history[val_metric_name]\n",
    "            ax.plot(epochs,metric_values,label=val_metric_name, marker=marker)\n",
    "\n",
    "        # Final subplot adjustments\n",
    "        ax.legend()\n",
    "        ax.set_title(metric_name)\n",
    "    fig.tight_layout()\n",
    "\n",
    "    return fig, axes"
   ]
  },
  {
   "cell_type": "code",
   "execution_count": 2,
   "id": "2ef42dec-4050-4ae5-b197-5f27df80b4dc",
   "metadata": {},
   "outputs": [],
   "source": [
    "#further imports\n",
    "import tensorflow as tf\n",
    "from tensorflow.keras.models import Sequential\n",
    "from tensorflow.keras.layers import Dense, Dropout"
   ]
  },
  {
   "cell_type": "code",
   "execution_count": 51,
   "id": "d8873167-96a7-4887-a44d-b4029a98ff8e",
   "metadata": {},
   "outputs": [
    {
     "name": "stdout",
     "output_type": "stream",
     "text": [
      "<class 'pandas.core.frame.DataFrame'>\n",
      "RangeIndex: 2414 entries, 0 to 2413\n",
      "Data columns (total 27 columns):\n",
      " #   Column             Non-Null Count  Dtype  \n",
      "---  ------             --------------  -----  \n",
      " 0   pca0               2414 non-null   float64\n",
      " 1   pca1               2414 non-null   float64\n",
      " 2   pca2               2414 non-null   float64\n",
      " 3   Sex_Female         2414 non-null   float64\n",
      " 4   Sex_Male           2414 non-null   float64\n",
      " 5   Marital_Divorced   2414 non-null   float64\n",
      " 6   Marital_Married    2414 non-null   float64\n",
      " 7   Marital_Separated  2414 non-null   float64\n",
      " 8   Marital_Single     2414 non-null   float64\n",
      " 9   Marital_Widowed    2414 non-null   float64\n",
      " 10  Marital_missing    2414 non-null   float64\n",
      " 11  Race_Asian         2414 non-null   float64\n",
      " 12  Race_Black         2414 non-null   float64\n",
      " 13  Race_Hispanic      2414 non-null   float64\n",
      " 14  Race_MexAmerican   2414 non-null   float64\n",
      " 15  Race_Other         2414 non-null   float64\n",
      " 16  Race_White         2414 non-null   float64\n",
      " 17  Albuminuria        2414 non-null   float64\n",
      " 18  Age                2414 non-null   float64\n",
      " 19  Income             2414 non-null   float64\n",
      " 20  WaistCirc          2414 non-null   float64\n",
      " 21  BMI                2414 non-null   float64\n",
      " 22  UrAlbCr            2414 non-null   float64\n",
      " 23  UricAcid           2414 non-null   float64\n",
      " 24  BloodGlucose       2414 non-null   float64\n",
      " 25  HDL                2414 non-null   float64\n",
      " 26  Triglycerides      2414 non-null   float64\n",
      "dtypes: float64(27)\n",
      "memory usage: 509.3 KB\n"
     ]
    },
    {
     "data": {
      "text/html": [
       "<div>\n",
       "<style scoped>\n",
       "    .dataframe tbody tr th:only-of-type {\n",
       "        vertical-align: middle;\n",
       "    }\n",
       "\n",
       "    .dataframe tbody tr th {\n",
       "        vertical-align: top;\n",
       "    }\n",
       "\n",
       "    .dataframe thead th {\n",
       "        text-align: right;\n",
       "    }\n",
       "</style>\n",
       "<table border=\"1\" class=\"dataframe\">\n",
       "  <thead>\n",
       "    <tr style=\"text-align: right;\">\n",
       "      <th></th>\n",
       "      <th>pca0</th>\n",
       "      <th>pca1</th>\n",
       "      <th>pca2</th>\n",
       "      <th>Sex_Female</th>\n",
       "      <th>Sex_Male</th>\n",
       "      <th>Marital_Divorced</th>\n",
       "      <th>Marital_Married</th>\n",
       "      <th>Marital_Separated</th>\n",
       "      <th>Marital_Single</th>\n",
       "      <th>Marital_Widowed</th>\n",
       "      <th>...</th>\n",
       "      <th>Albuminuria</th>\n",
       "      <th>Age</th>\n",
       "      <th>Income</th>\n",
       "      <th>WaistCirc</th>\n",
       "      <th>BMI</th>\n",
       "      <th>UrAlbCr</th>\n",
       "      <th>UricAcid</th>\n",
       "      <th>BloodGlucose</th>\n",
       "      <th>HDL</th>\n",
       "      <th>Triglycerides</th>\n",
       "    </tr>\n",
       "  </thead>\n",
       "  <tbody>\n",
       "    <tr>\n",
       "      <th>0</th>\n",
       "      <td>1.078219</td>\n",
       "      <td>1.528468</td>\n",
       "      <td>-1.053598</td>\n",
       "      <td>0.988950</td>\n",
       "      <td>-0.988950</td>\n",
       "      <td>-0.337434</td>\n",
       "      <td>1.014550</td>\n",
       "      <td>-0.209961</td>\n",
       "      <td>-0.498263</td>\n",
       "      <td>-0.275520</td>\n",
       "      <td>...</td>\n",
       "      <td>2.011850</td>\n",
       "      <td>1.225626</td>\n",
       "      <td>-0.765511</td>\n",
       "      <td>0.632414</td>\n",
       "      <td>0.924121</td>\n",
       "      <td>0.695253</td>\n",
       "      <td>0.579491</td>\n",
       "      <td>0.446711</td>\n",
       "      <td>0.910806</td>\n",
       "      <td>0.649599</td>\n",
       "    </tr>\n",
       "    <tr>\n",
       "      <th>1</th>\n",
       "      <td>0.495188</td>\n",
       "      <td>-0.537319</td>\n",
       "      <td>-0.862749</td>\n",
       "      <td>0.988950</td>\n",
       "      <td>-0.988950</td>\n",
       "      <td>2.963547</td>\n",
       "      <td>-0.985658</td>\n",
       "      <td>-0.209961</td>\n",
       "      <td>-0.498263</td>\n",
       "      <td>-0.275520</td>\n",
       "      <td>...</td>\n",
       "      <td>-0.365911</td>\n",
       "      <td>0.142487</td>\n",
       "      <td>-0.799717</td>\n",
       "      <td>1.150381</td>\n",
       "      <td>0.771022</td>\n",
       "      <td>-0.139804</td>\n",
       "      <td>-0.049167</td>\n",
       "      <td>-0.170456</td>\n",
       "      <td>-0.159594</td>\n",
       "      <td>-0.000169</td>\n",
       "    </tr>\n",
       "    <tr>\n",
       "      <th>2</th>\n",
       "      <td>0.325420</td>\n",
       "      <td>-0.370486</td>\n",
       "      <td>-0.476304</td>\n",
       "      <td>-1.011174</td>\n",
       "      <td>1.011174</td>\n",
       "      <td>-0.337434</td>\n",
       "      <td>1.014550</td>\n",
       "      <td>-0.209961</td>\n",
       "      <td>-0.498263</td>\n",
       "      <td>-0.275520</td>\n",
       "      <td>...</td>\n",
       "      <td>-0.365911</td>\n",
       "      <td>0.655553</td>\n",
       "      <td>-0.491863</td>\n",
       "      <td>0.405014</td>\n",
       "      <td>0.663853</td>\n",
       "      <td>-0.081992</td>\n",
       "      <td>-0.049167</td>\n",
       "      <td>-0.229233</td>\n",
       "      <td>-0.494093</td>\n",
       "      <td>-0.609327</td>\n",
       "    </tr>\n",
       "    <tr>\n",
       "      <th>3</th>\n",
       "      <td>-1.620569</td>\n",
       "      <td>0.191023</td>\n",
       "      <td>0.513525</td>\n",
       "      <td>0.988950</td>\n",
       "      <td>-0.988950</td>\n",
       "      <td>-0.337434</td>\n",
       "      <td>-0.985658</td>\n",
       "      <td>-0.209961</td>\n",
       "      <td>2.006971</td>\n",
       "      <td>-0.275520</td>\n",
       "      <td>...</td>\n",
       "      <td>-0.365911</td>\n",
       "      <td>-1.111675</td>\n",
       "      <td>1.731526</td>\n",
       "      <td>-1.603686</td>\n",
       "      <td>-1.050853</td>\n",
       "      <td>-0.130665</td>\n",
       "      <td>-1.027079</td>\n",
       "      <td>-0.346789</td>\n",
       "      <td>1.379105</td>\n",
       "      <td>0.416089</td>\n",
       "    </tr>\n",
       "    <tr>\n",
       "      <th>4</th>\n",
       "      <td>0.581525</td>\n",
       "      <td>0.033690</td>\n",
       "      <td>-0.734560</td>\n",
       "      <td>0.988950</td>\n",
       "      <td>-0.988950</td>\n",
       "      <td>-0.337434</td>\n",
       "      <td>-0.985658</td>\n",
       "      <td>-0.209961</td>\n",
       "      <td>-0.498263</td>\n",
       "      <td>3.629494</td>\n",
       "      <td>...</td>\n",
       "      <td>-0.365911</td>\n",
       "      <td>1.681685</td>\n",
       "      <td>-0.799717</td>\n",
       "      <td>0.739798</td>\n",
       "      <td>0.342346</td>\n",
       "      <td>-0.110860</td>\n",
       "      <td>-0.188869</td>\n",
       "      <td>0.094044</td>\n",
       "      <td>-0.025794</td>\n",
       "      <td>0.680057</td>\n",
       "    </tr>\n",
       "  </tbody>\n",
       "</table>\n",
       "<p>5 rows × 27 columns</p>\n",
       "</div>"
      ],
      "text/plain": [
       "       pca0      pca1      pca2  Sex_Female  Sex_Male  Marital_Divorced  \\\n",
       "0  1.078219  1.528468 -1.053598    0.988950 -0.988950         -0.337434   \n",
       "1  0.495188 -0.537319 -0.862749    0.988950 -0.988950          2.963547   \n",
       "2  0.325420 -0.370486 -0.476304   -1.011174  1.011174         -0.337434   \n",
       "3 -1.620569  0.191023  0.513525    0.988950 -0.988950         -0.337434   \n",
       "4  0.581525  0.033690 -0.734560    0.988950 -0.988950         -0.337434   \n",
       "\n",
       "   Marital_Married  Marital_Separated  Marital_Single  Marital_Widowed  ...  \\\n",
       "0         1.014550          -0.209961       -0.498263        -0.275520  ...   \n",
       "1        -0.985658          -0.209961       -0.498263        -0.275520  ...   \n",
       "2         1.014550          -0.209961       -0.498263        -0.275520  ...   \n",
       "3        -0.985658          -0.209961        2.006971        -0.275520  ...   \n",
       "4        -0.985658          -0.209961       -0.498263         3.629494  ...   \n",
       "\n",
       "   Albuminuria       Age    Income  WaistCirc       BMI   UrAlbCr  UricAcid  \\\n",
       "0     2.011850  1.225626 -0.765511   0.632414  0.924121  0.695253  0.579491   \n",
       "1    -0.365911  0.142487 -0.799717   1.150381  0.771022 -0.139804 -0.049167   \n",
       "2    -0.365911  0.655553 -0.491863   0.405014  0.663853 -0.081992 -0.049167   \n",
       "3    -0.365911 -1.111675  1.731526  -1.603686 -1.050853 -0.130665 -1.027079   \n",
       "4    -0.365911  1.681685 -0.799717   0.739798  0.342346 -0.110860 -0.188869   \n",
       "\n",
       "   BloodGlucose       HDL  Triglycerides  \n",
       "0      0.446711  0.910806       0.649599  \n",
       "1     -0.170456 -0.159594      -0.000169  \n",
       "2     -0.229233 -0.494093      -0.609327  \n",
       "3     -0.346789  1.379105       0.416089  \n",
       "4      0.094044 -0.025794       0.680057  \n",
       "\n",
       "[5 rows x 27 columns]"
      ]
     },
     "execution_count": 51,
     "metadata": {},
     "output_type": "execute_result"
    }
   ],
   "source": [
    "#calling variables\n",
    "X_train_sm\n",
    "X_test_scaled\n",
    "y_train_sm\n",
    "y_test\n",
    "X_train_sm.info()\n",
    "X_train_sm.head()"
   ]
  },
  {
   "cell_type": "code",
   "execution_count": 52,
   "id": "e8d27362-fe25-4a52-a5ff-0fc4b69c777c",
   "metadata": {},
   "outputs": [
    {
     "data": {
      "text/plain": [
       "27"
      ]
     },
     "execution_count": 52,
     "metadata": {},
     "output_type": "execute_result"
    }
   ],
   "source": [
    "# Save the number of features we have as our input shape\n",
    "input_shape = X_train_sm.shape[1]\n",
    "input_shape"
   ]
  },
  {
   "cell_type": "code",
   "execution_count": 53,
   "id": "e8e07cc4-23a4-4eb6-9a52-a36e946a193b",
   "metadata": {},
   "outputs": [],
   "source": [
    "# With dropout and early stopping\n",
    "# Sequential model\n",
    "model = Sequential()\n",
    "# First hidden layer\n",
    "model.add(Dense(20, # How many neurons you have in your first hidden layer\n",
    "                input_dim = input_shape, # What is the shape of your input features (number of columns)\n",
    "                activation = 'relu')) # What activation function are you using?\n",
    "model.add(Dense(10,\n",
    "                activation = 'relu'))\n",
    "model.add(Dense(1, activation = 'sigmoid'))\n",
    "model.compile(loss = 'bce', optimizer = 'adam',\n",
    "             metrics=['accuracy',\n",
    "                         tf.keras.metrics.Recall(name='recall'),\n",
    "                         tf.keras.metrics.Precision(name='precision')])"
   ]
  },
  {
   "cell_type": "code",
   "execution_count": 54,
   "id": "4c52d20e-cca0-411a-8e03-3f8f494a4069",
   "metadata": {},
   "outputs": [],
   "source": [
    "from tensorflow.keras.callbacks import EarlyStopping\n",
    "early_stopping = EarlyStopping(monitor='val_accuracy', patience=5)"
   ]
  },
  {
   "cell_type": "code",
   "execution_count": 55,
   "id": "deef4698-521d-4c61-9bcf-53d59bb1851f",
   "metadata": {},
   "outputs": [
    {
     "name": "stdout",
     "output_type": "stream",
     "text": [
      "Model: \"sequential\"\n",
      "_________________________________________________________________\n",
      " Layer (type)                Output Shape              Param #   \n",
      "=================================================================\n",
      " dense (Dense)               (None, 20)                560       \n",
      "                                                                 \n",
      " dense_1 (Dense)             (None, 10)                210       \n",
      "                                                                 \n",
      " dense_2 (Dense)             (None, 1)                 11        \n",
      "                                                                 \n",
      "=================================================================\n",
      "Total params: 781\n",
      "Trainable params: 781\n",
      "Non-trainable params: 0\n",
      "_________________________________________________________________\n"
     ]
    }
   ],
   "source": [
    "#model summary\n",
    "model.summary()"
   ]
  },
  {
   "cell_type": "code",
   "execution_count": 56,
   "id": "9273106f-00f0-47a0-9a89-0011d041b7cf",
   "metadata": {},
   "outputs": [
    {
     "name": "stdout",
     "output_type": "stream",
     "text": [
      "Epoch 1/50\n",
      "61/61 [==============================] - 2s 13ms/step - loss: 0.6865 - accuracy: 0.5541 - recall: 0.2569 - precision: 0.3654 - val_loss: 0.8991 - val_accuracy: 0.0807 - val_recall: 0.0807 - val_precision: 1.0000\n",
      "Epoch 2/50\n",
      "61/61 [==============================] - 0s 4ms/step - loss: 0.6665 - accuracy: 0.6147 - recall: 0.0483 - precision: 0.3889 - val_loss: 0.9421 - val_accuracy: 0.0207 - val_recall: 0.0207 - val_precision: 1.0000\n",
      "Epoch 3/50\n",
      "61/61 [==============================] - 0s 4ms/step - loss: 0.6596 - accuracy: 0.6214 - recall: 0.0276 - precision: 0.4255 - val_loss: 0.9323 - val_accuracy: 0.0290 - val_recall: 0.0290 - val_precision: 1.0000\n",
      "Epoch 4/50\n",
      "61/61 [==============================] - 0s 4ms/step - loss: 0.6552 - accuracy: 0.6240 - recall: 0.0193 - precision: 0.4667 - val_loss: 0.9438 - val_accuracy: 0.0207 - val_recall: 0.0207 - val_precision: 1.0000\n",
      "Epoch 5/50\n",
      "61/61 [==============================] - 0s 5ms/step - loss: 0.6510 - accuracy: 0.6245 - recall: 0.0276 - precision: 0.4878 - val_loss: 0.9186 - val_accuracy: 0.0290 - val_recall: 0.0290 - val_precision: 1.0000\n",
      "Epoch 6/50\n",
      "61/61 [==============================] - 0s 4ms/step - loss: 0.6474 - accuracy: 0.6214 - recall: 0.0249 - precision: 0.4186 - val_loss: 0.9369 - val_accuracy: 0.0311 - val_recall: 0.0311 - val_precision: 1.0000\n"
     ]
    }
   ],
   "source": [
    "# Fit the model with the early stopping callback\n",
    "history = model.fit(X_train_sm, y_train_sm,\n",
    "                    validation_split = 0.2,\n",
    "                    epochs=50,\n",
    "                    callbacks = [early_stopping])"
   ]
  },
  {
   "cell_type": "code",
   "execution_count": 57,
   "id": "65c2da6a-4604-4568-99b0-28680de104c7",
   "metadata": {},
   "outputs": [
    {
     "data": {
      "image/png": "[encoded data removed]",
      "text/plain": [
       "<Figure size 600x1200 with 4 Axes>"
      ]
     },
     "metadata": {},
     "output_type": "display_data"
    }
   ],
   "source": [
    "#visualising the history\n",
    "plot_history(history);"
   ]
  },
  {
   "cell_type": "markdown",
   "id": "3b0514ba-e981-4aa3-992b-946bc35bc64c",
   "metadata": {},
   "source": [
    "- Learning seems to be taking place and the model doesnt seem to be over fit. Looks like early stoping wasnt needed as the model was still learning "
   ]
  },
  {
   "cell_type": "code",
   "execution_count": 58,
   "id": "3bd8a6be-4e58-41ac-ac88-2241b178663b",
   "metadata": {},
   "outputs": [
    {
     "name": "stdout",
     "output_type": "stream",
     "text": [
      "19/19 [==============================] - 0s 2ms/step\n"
     ]
    },
    {
     "data": {
      "text/plain": [
       "array([[0.31462598],\n",
       "       [0.32844913],\n",
       "       [0.4446957 ],\n",
       "       [0.40738404],\n",
       "       [0.44157985]], dtype=float32)"
      ]
     },
     "execution_count": 58,
     "metadata": {},
     "output_type": "execute_result"
    }
   ],
   "source": [
    "# make predictions\n",
    "y_pred_test = model.predict(X_test_scaled)\n",
    "y_pred_test[:5]"
   ]
  },
  {
   "cell_type": "code",
   "execution_count": 59,
   "id": "68a9f478-c225-4788-9312-a6a19e603083",
   "metadata": {},
   "outputs": [
    {
     "data": {
      "text/plain": [
       "array([[0.],\n",
       "       [0.],\n",
       "       [0.],\n",
       "       [0.],\n",
       "       [0.]], dtype=float32)"
      ]
     },
     "execution_count": 59,
     "metadata": {},
     "output_type": "execute_result"
    }
   ],
   "source": [
    "# round the predictions since sklearn doesnt recognise floats\n",
    "y_pred_test = np.round(y_pred_test)\n",
    "y_pred_test[:5]"
   ]
  },
  {
   "cell_type": "code",
   "execution_count": 60,
   "id": "e454e134-44fa-4c59-a855-abc771ba70b4",
   "metadata": {},
   "outputs": [
    {
     "name": "stdout",
     "output_type": "stream",
     "text": [
      "              precision    recall  f1-score   support\n",
      "\n",
      "           0       0.62      0.98      0.76       372\n",
      "           1       0.25      0.01      0.02       229\n",
      "\n",
      "    accuracy                           0.61       601\n",
      "   macro avg       0.43      0.50      0.39       601\n",
      "weighted avg       0.48      0.61      0.48       601\n",
      "\n"
     ]
    },
    {
     "data": {
      "image/png": "[encoded data removed]",
      "text/plain": [
       "<Figure size 640x480 with 2 Axes>"
      ]
     },
     "metadata": {},
     "output_type": "display_data"
    }
   ],
   "source": [
    "from sklearn.metrics import classification_report,ConfusionMatrixDisplay\n",
    "print(classification_report(y_test, y_pred_test))\n",
    "\n",
    "ConfusionMatrixDisplay.from_predictions(y_test, y_pred_test, cmap='Blues',\n",
    "                                       normalize='true');"
   ]
  },
  {
   "cell_type": "markdown",
   "id": "e05d2791-78b3-4131-831a-db3062984663",
   "metadata": {},
   "source": [
    "looks like our model isnt doing so well on unseen data"
   ]
  },
  {
   "cell_type": "code",
   "execution_count": 61,
   "id": "04cefea8-d317-47f3-99fb-d1a289a48474",
   "metadata": {},
   "outputs": [],
   "source": [
    "from keras_tuner import HyperParameters as hp\n",
    "import keras_tuner as kt"
   ]
  },
  {
   "cell_type": "code",
   "execution_count": 62,
   "id": "cd19d806-fae2-4e44-ae88-2b134d892a57",
   "metadata": {},
   "outputs": [],
   "source": [
    "# Make a folder to store results of hyperparameter tuning\n",
    "import os\n",
    "folder = 'KerasTuner_P4/'\n",
    "os.makedirs(folder, exist_ok=True)"
   ]
  },
  {
   "cell_type": "code",
   "execution_count": 63,
   "id": "20cf2650-d2e9-4591-8280-11253e6b2eff",
   "metadata": {},
   "outputs": [],
   "source": [
    "# Build and Compile Model within a function to try different optimizers, units, and dropout values\n",
    "def build_model(hp):\n",
    "    # Instantiate Model\n",
    "    model = Sequential()\n",
    "    # First hidden layer\n",
    "    model.add(Dense(20, # How many neurons you have in your first hidden layer\n",
    "                input_dim =input_shape, # What is the shape of your input features (number of columns)\n",
    "                activation = 'relu')) # What activation function are you using?\n",
    "    # Try different values for units\n",
    "    model.add(Dense(units=hp.Int('units', min_value=10, max_value=50, step=5), activation='relu'))\n",
    "    # Try different values for dropout rate\n",
    "    model.add(Dropout(hp.Float(name=\"dropout_value\", min_value=0.0, max_value=0.5, step=0.1)))\n",
    "    model.add(Dense(1, activation = 'sigmoid'))\n",
    "\n",
    "    # Compile Model\n",
    "    # Try different optimizers\n",
    "    model.compile(optimizer=hp.Choice('optimizer',['rmsprop','nadam','adam']),\n",
    "                  loss='bce',\n",
    "                  metrics=['accuracy',\n",
    "                           tf.keras.metrics.Recall(name='recall'),\n",
    "                           tf.keras.metrics.Precision(name='precision')])\n",
    "    return model"
   ]
  },
  {
   "cell_type": "code",
   "execution_count": 64,
   "id": "32a4adfe-8bc0-4016-b292-43f4ec8a3c73",
   "metadata": {},
   "outputs": [],
   "source": [
    "# Define tuner object\n",
    "tuner = kt.Hyperband(build_model,\n",
    "                     objective='val_accuracy',\n",
    "                     max_epochs=100,\n",
    "                     directory=folder,\n",
    "                     overwrite = True,\n",
    "                     seed = 42,\n",
    "                     project_name='P4_tunning')"
   ]
  },
  {
   "cell_type": "code",
   "execution_count": 65,
   "id": "c57372bd-a128-48b4-bc41-edd8240fb783",
   "metadata": {},
   "outputs": [
    {
     "name": "stdout",
     "output_type": "stream",
     "text": [
      "Trial 172 Complete [00h 00m 04s]\n",
      "val_accuracy: 0.035196688026189804\n",
      "\n",
      "Best val_accuracy So Far: 0.6004140973091125\n",
      "Total elapsed time: 00h 11m 12s\n",
      "INFO:tensorflow:Oracle triggered exit\n"
     ]
    }
   ],
   "source": [
    "# Run the tuner\n",
    "epochs = 100\n",
    "tuner.search(X_train_sm, y_train_sm,  epochs=epochs,\n",
    "             validation_split=0.2, callbacks = [early_stopping])"
   ]
  },
  {
   "cell_type": "code",
   "execution_count": 66,
   "id": "e7625ede-3208-4fc8-8bd2-f693c4a1328d",
   "metadata": {},
   "outputs": [
    {
     "data": {
      "text/plain": [
       "{'units': 20,\n",
       " 'dropout_value': 0.0,\n",
       " 'optimizer': 'adam',\n",
       " 'tuner/epochs': 100,\n",
       " 'tuner/initial_epoch': 34,\n",
       " 'tuner/bracket': 4,\n",
       " 'tuner/round': 4,\n",
       " 'tuner/trial_id': '0145'}"
      ]
     },
     "execution_count": 66,
     "metadata": {},
     "output_type": "execute_result"
    }
   ],
   "source": [
    "# Obtain best hyperparameter values\n",
    "best_hps=tuner.get_best_hyperparameters()[0]\n",
    "best_hps.values"
   ]
  },
  {
   "cell_type": "code",
   "execution_count": 67,
   "id": "1a21cc5d-2a9f-4038-8357-6c654ad7d374",
   "metadata": {},
   "outputs": [
    {
     "name": "stdout",
     "output_type": "stream",
     "text": [
      "Model: \"sequential\"\n",
      "_________________________________________________________________\n",
      " Layer (type)                Output Shape              Param #   \n",
      "=================================================================\n",
      " dense (Dense)               (None, 20)                560       \n",
      "                                                                 \n",
      " dense_1 (Dense)             (None, 20)                420       \n",
      "                                                                 \n",
      " dropout (Dropout)           (None, 20)                0         \n",
      "                                                                 \n",
      " dense_2 (Dense)             (None, 1)                 21        \n",
      "                                                                 \n",
      "=================================================================\n",
      "Total params: 1,001\n",
      "Trainable params: 1,001\n",
      "Non-trainable params: 0\n",
      "_________________________________________________________________\n"
     ]
    }
   ],
   "source": [
    "# Obtain best model\n",
    "best_model = tuner.get_best_models()[0]\n",
    "best_model.summary()"
   ]
  },
  {
   "cell_type": "code",
   "execution_count": 68,
   "id": "2a507ebf-29d6-482f-a352-4263129b1eda",
   "metadata": {},
   "outputs": [
    {
     "name": "stdout",
     "output_type": "stream",
     "text": [
      "19/19 [==============================] - 1s 4ms/step - loss: 0.7512 - accuracy: 0.5241 - recall: 0.3624 - precision: 0.3722\n"
     ]
    },
    {
     "data": {
      "text/plain": [
       "{'loss': 0.7511792778968811,\n",
       " 'accuracy': 0.5241264700889587,\n",
       " 'recall': 0.3624454140663147,\n",
       " 'precision': 0.37219730019569397}"
      ]
     },
     "execution_count": 68,
     "metadata": {},
     "output_type": "execute_result"
    }
   ],
   "source": [
    "# Evaluate neural network with tuned optimizer, units, and dropout\n",
    "result = best_model.evaluate(X_test, y_test, return_dict=True)\n",
    "result"
   ]
  },
  {
   "cell_type": "code",
   "execution_count": 69,
   "id": "f734e70a-c23e-438a-b931-b9f04ba74e09",
   "metadata": {},
   "outputs": [
    {
     "name": "stdout",
     "output_type": "stream",
     "text": [
      "19/19 [==============================] - 0s 3ms/step\n"
     ]
    },
    {
     "data": {
      "text/plain": [
       "array([[0.30437523],\n",
       "       [0.15874854],\n",
       "       [0.83983696],\n",
       "       [0.5203752 ],\n",
       "       [0.42394605]], dtype=float32)"
      ]
     },
     "execution_count": 69,
     "metadata": {},
     "output_type": "execute_result"
    }
   ],
   "source": [
    "# make predictions\n",
    "y_pred_test = best_model.predict(X_test_scaled)\n",
    "y_pred_test[:5]"
   ]
  },
  {
   "cell_type": "code",
   "execution_count": 70,
   "id": "16551da7-a8ea-4518-8820-28c376cf65f1",
   "metadata": {},
   "outputs": [
    {
     "data": {
      "text/plain": [
       "array([[0.],\n",
       "       [0.],\n",
       "       [1.],\n",
       "       [1.],\n",
       "       [0.]], dtype=float32)"
      ]
     },
     "execution_count": 70,
     "metadata": {},
     "output_type": "execute_result"
    }
   ],
   "source": [
    "# round the predictions since sklearn doesnt recognise floats\n",
    "y_pred_test = np.round(y_pred_test)\n",
    "y_pred_test[:5]"
   ]
  },
  {
   "cell_type": "code",
   "execution_count": 71,
   "id": "a35b48df-1685-49b4-ba7a-050b14148eec",
   "metadata": {},
   "outputs": [
    {
     "name": "stdout",
     "output_type": "stream",
     "text": [
      "              precision    recall  f1-score   support\n",
      "\n",
      "           0       0.64      0.73      0.68       372\n",
      "           1       0.43      0.33      0.37       229\n",
      "\n",
      "    accuracy                           0.58       601\n",
      "   macro avg       0.53      0.53      0.53       601\n",
      "weighted avg       0.56      0.58      0.56       601\n",
      "\n"
     ]
    },
    {
     "data": {
      "image/png": "[encoded data removed]",
      "text/plain": [
       "<Figure size 640x480 with 2 Axes>"
      ]
     },
     "metadata": {},
     "output_type": "display_data"
    }
   ],
   "source": [
    "print(classification_report(y_test, y_pred_test))\n",
    "\n",
    "ConfusionMatrixDisplay.from_predictions(y_test, y_pred_test, cmap='Blues',\n",
    "                                       normalize='true');"
   ]
  },
  {
   "cell_type": "markdown",
   "id": "923e8acc-e551-407b-8e50-98316eaa3495",
   "metadata": {},
   "source": [
    "This is better but still not very good a model"
   ]
  },
  {
   "cell_type": "code",
   "execution_count": null,
   "id": "250fcf5a-7298-46e1-8167-191d25a70c01",
   "metadata": {},
   "outputs": [],
   "source": []
  }
 ],
 "metadata": {
  "kernelspec": {
   "display_name": "Python 3 (ipykernel)",
   "language": "python",
   "name": "python3"
  },
  "language_info": {
   "codemirror_mode": {
    "name": "ipython",
    "version": 3
   },
   "file_extension": ".py",
   "mimetype": "text/x-python",
   "name": "python",
   "nbconvert_exporter": "python",
   "pygments_lexer": "ipython3",
   "version": "3.10.10"
  },
  "widgets": {
   "application/vnd.jupyter.widget-state+json": {
    "state": {},
    "version_major": 2,
    "version_minor": 0
   }
  }
 },
 "nbformat": 4,
 "nbformat_minor": 5
}
